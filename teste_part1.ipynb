{
 "cells": [
  {
   "cell_type": "markdown",
   "metadata": {},
   "source": [
    "# Teste Tecnico Parte 1 - Algoritmos aplicados à base de dados de Fraudes do Kaggle\n",
    "\n",
    "#### **Descrição da avaliação**\n",
    "\n",
    "Essa parte consiste na elaboração de um Jupyter Notebook (ou outra ferramenta que lhe for mais conveniente para apresentação) com pelo menos 2 técnicas à sua escolha para resolver uma ou mais competições de Fraude contidas no Kaggle. O candidato tem a liberdade para escolha da competição que lhe for mais conveniente, bem como de unir todas as bases de dados caso queira.\n",
    "\n",
    "**Pacotes obrigatórios para se utilizar:**  \n",
    "\n",
    "* Pandas;\n",
    "* Scikit-learn;\n",
    "* Tensorflow (ou PyTorch).\n",
    "\n",
    "Opcional: incluir a possibilidade de treinamento dos modelos em GPU.\n",
    "\n",
    "**Objetivo do teste:**  demonstrar assertividade de desenvolvimento de código, expor\n",
    "claramente solução utilizada podendo descrever o tratamento dos dados, a escolha\n",
    "dos algoritmos, as métricas de avaliação, possíveis testes estatísticos e os prós e\n",
    "contras das soluções utilizadas."
   ]
  },
  {
   "cell_type": "markdown",
   "metadata": {},
   "source": [
    "## 1 EDA\n",
    "\n",
    "Neste etapa vamos realizar a análise exploratória dos dados, identificar as variáveis que poderão contribuir para a predição da fraude trazendo mais informação sobre o problema.\n",
    "\n",
    "Em virtude da quantidade extensiva de features deste banco de dados, vamos fazer a [EDA](EDA.ipynb) (segue link) em outro notebook visando focar este notebook no processo de análise da modelagem dos dados.\n"
   ]
  },
  {
   "cell_type": "code",
   "execution_count": 1,
   "metadata": {},
   "outputs": [],
   "source": [
    "import pickle\n",
    "import numpy as np\n",
    "import pandas as pd\n",
    "from sklearn.preprocessing import StandardScaler\n",
    "from sklearn.metrics import roc_auc_score\n",
    "import matplotlib.pyplot as plt\n",
    "import seaborn as sns\n",
    "sns.set_theme()\n",
    "\n",
    "import warnings\n",
    "warnings.filterwarnings(\"ignore\")\n",
    "\n",
    "from sklearn.calibration import CalibrationDisplay\n",
    "from sklearn.ensemble import IsolationForest\n",
    "from sklearn.ensemble import RandomForestClassifier\n",
    "from sklearn.linear_model import LogisticRegression\n",
    "from sklearn.naive_bayes import GaussianNB\n",
    "from xgboost import XGBClassifier\n",
    "\n",
    "from imblearn.under_sampling import RandomUnderSampler\n",
    "from imblearn.over_sampling import RandomOverSampler\n",
    "from imblearn.over_sampling import SMOTE\n",
    "from imblearn.over_sampling import ADASYN"
   ]
  },
  {
   "cell_type": "code",
   "execution_count": 2,
   "metadata": {},
   "outputs": [
    {
     "name": "stdout",
     "output_type": "stream",
     "text": [
      "Forma dos dados de treino (590540, 60) Forma dos dados de teste (506691, 60)\n"
     ]
    }
   ],
   "source": [
    "# Carregando os arquivos de treino e teste com a seleção de features\n",
    "# já realizada na etada do EDA\n",
    "\n",
    "with open('./ieee-fraud-detection/X.train', 'rb') as Xtrain_file:\n",
    "    X_train = pickle.load(Xtrain_file)\n",
    "    \n",
    "with open('./ieee-fraud-detection/y.train', 'rb') as ytrain_file:\n",
    "    y_train = pickle.load(ytrain_file)\n",
    "    \n",
    "with open('./ieee-fraud-detection/X.test', 'rb') as Xtest_file:\n",
    "    X_test = pickle.load(Xtest_file)\n",
    "    \n",
    "\n",
    "print('Forma dos dados de treino',X_train.shape,'Forma dos dados de teste',X_test.shape)   "
   ]
  },
  {
   "cell_type": "markdown",
   "metadata": {},
   "source": [
    "## 2 Modelagem\n",
    "\n",
    "Nesta etapa vamos modelar os dados utilizando algoritmos de Machine Learning.\n",
    "\n",
    "Estas serão as próximas etapas:\n",
    "* Separação dos dados de treino em conjunto de treino e validação\n",
    "* Escolha de algoritmos de Machine Learning - Nesta etapa vamos selecionar um conjunto de modelos que vamos testar em uma configuração default de parâmetros. A partir desse primeiro teste vamos selecionar os melhores modelos ou modelo mais promissor para uma etapa de otimização de hiperparâmetros.\n",
    "    * Treinamento dos algoritmos - Não utilizaremos o validação cruzada para estes testes, uma vez que estamos na fase de seleção de modelos e buscamos otimizar o tempo de treinamento.\n",
    "    * Avaliação dos algoritmos - Nesta etapa vamos utilizar a métrica de acurácia (roc-auc) para avaliar a performance dos modelos. Essa métrica foi escolhida por mensurar a capacidade de separação dos dados em classes, dessa forma, o modelo mais promissor para a classificação dos dados será o modelo que melhor separa os dados em classes. A metrica escolhida poderia varia \n",
    "* Otimização dos modelos ou do modelo final - Utilizaremos a toolbox de otimização de hiperparâmetros optuna para otimizar os parâmetros de nosso modelo.\n",
    "* Considerações finais - comentários finais sobre o modelo final e a performance do modelo."
   ]
  },
  {
   "cell_type": "code",
   "execution_count": 3,
   "metadata": {},
   "outputs": [],
   "source": [
    "# Dividindo os dados de treino em treino e validação\n",
    "from sklearn.model_selection import train_test_split\n",
    "X_train, X_val, y_train, y_val = train_test_split(X_train,\n",
    "                                                  y_train,\n",
    "                                                  test_size=0.2,\n",
    "                                                  random_state=42,\n",
    "                                                  stratify=y_train)\n"
   ]
  },
  {
   "cell_type": "markdown",
   "metadata": {},
   "source": [
    "### 2.0 Regressão logística - Logistic Regression (Base-line)\n",
    "\n",
    "Este modelo será utilizado como base-line para comparar os resultados dos modelos de Machine Learning.\n",
    "\n",
    "Este modelo é bem interpretável, pois ele é um modelo de regressão logística, que é uma forma de classificação que utiliza a probabilidade de uma classe para determinar se um dado é fraude ou não.\n",
    "\n",
    "**Prós:**\n",
    "* Simples de implementar.\n",
    "* Esse modelo não faz suposições sobre distribuições de classes.\n",
    "* Predição muito rápida.\n",
    "* Os coeficientes do modelo podem ser interpretados como indicadores de importância das variáveis.\n",
    "\n",
    "**Contras:**\n",
    "* Problemas não lineares não podem ser resolvidos com regressão logística porque tem uma superfície de decisão linear. Dados linearmente separáveis raramente são encontrados em cenários do mundo real.\n",
    "* A Regressão Logística precisa que as variáveis independentes estejam linearmente relacionadas às probabilidades logarítmicas (log(p/(1-p)).\n",
    "* Não é muito poderoso e pode ser fácilmente superado por outros algoritmos."
   ]
  },
  {
   "cell_type": "markdown",
   "metadata": {},
   "source": [
    "### 2.1 Naive Bayes\n",
    "\n",
    "Como o Naive Bayes é super rápido, pode ser usado para fazer previsões em tempo real para classificação multiclasse, e também é muito útil para classificação de texto.\n",
    "\n",
    "**Prós**: \n",
    "* Otimização de hiperparâmetros, poucos parametros devem ser testados e processamento rápido.\n",
    "* Insensível à variáveis irrelevantes.\n",
    "* Treinamento e processamento de dados rápido, pode ser utilizado em aplicações online.\n",
    "* Tem bom desempenho para altas dimensionalidades de dados\n",
    "\n",
    "**Contras**:\n",
    "* Precisa de uma grande quantidade de dados para atingir um bom resultado.\n",
    "* Não costuma ser um bom estimador. Apresenta uma performance inferior a outros classificadores dependendo do tipo de problema. Não se deve muito a sério as probabilidades da predict_proba.\n",
    "* Os dados DEVEM representar muito bem a população.\n"
   ]
  },
  {
   "cell_type": "markdown",
   "metadata": {},
   "source": [
    "### 2.1 Random Forest\n",
    "\n",
    "Modelo de classificação que utiliza arvores de decisão para classificar dados. Este é o modelo base para outros modelos de classificação, como o Isolation Forest, XGBoost e o LightGBM.\n",
    "\n",
    "**Prós:**\n",
    "* Este modelo funciona bem com dados categóricos e numéricos. Normalmente, nenhuma escala ou transformação de variáveis é necessária.\n",
    "* Este modelo executa implicitamente a seleção de variáveis e geram árvores de decisão não correlacionadas.\n",
    "* É um ótimo modelo quando você precisa trabalhar com um grande número de variáveis nos dados.\n",
    "* Este modelo é bem tolerante a dados outliers.\n",
    "* Lida bem com relacionamentos lineares e não lineares.\n",
    "* Este modelo geralmente fornecem alta precisão e equilibram bem entre viés e variância.\n",
    "* Não sofre de overfiting porque decompõem o conjunto de dados em subconjuntos de dados.\n",
    "\n",
    "**Contras:**\n",
    "* Este modelo não é facilmente interpretável.\n",
    "* Este modelo pode ser computacionalmente intensivo para grandes conjuntos de dados.\n",
    "* É um modelo do tipo caixa preta, é dificil extrair uma interpretação dos dados.\n",
    "* As variáveis tem que ter um bom potencial informativo para que o modelo desempenhe bem.\n",
    "\n"
   ]
  },
  {
   "cell_type": "markdown",
   "metadata": {},
   "source": [
    "### 2.2 Isolation Forest\n",
    "\n",
    "Isolation Forest é um modelo de detecção de outliers que utiliza uma árvore de decisão para detectar anomalias e um algoritmo não supervisonado.\n",
    "\n",
    "**Prós:**\n",
    "* Computacionalmente rápido\n",
    "* Eficiente com alta dimensionalidade de dados\n",
    "* Pode ser utilizado em conjunto com outros modelos de Machine Learning\n",
    "* A otimização é muito simples, um parametro parametro float.\n",
    "\n",
    "**Contras:**\n",
    "* Depende do número de dados\n",
    "* Não é um modelo de classificação, ele é um modelo de detecção de outliers através de segregação de dados utlizando arvores para particionar o espação das variáveis de entrada.\n",
    "* Não tem a curva de probabilidade \n",
    "\n",
    "Para maiores informações segue link da [biblioteca do scikitlearn](https://scikit-learn.org/stable/modules/generated/sklearn.ensemble.IsolationForest.html) e do [artigo orginal](icdm08b.pdf)."
   ]
  },
  {
   "cell_type": "markdown",
   "metadata": {},
   "source": [
    "### 2.3 XGBoost\n",
    "\n",
    "O XGBoost é uma implementação do modelo de árvores de decisão impulsionadas por gradiente e projetadas para velocidade e desempenho.\n",
    "\n",
    "**Prós:**\n",
    "* Menos engenharia de recursos necessária (não há necessidade de dimensionamento, normalização de dados, também pode lidar bem com valores ausentes)\n",
    "* A importância do recurso pode ser encontrada (importância de saída de cada recurso, pode ser usada para seleção de recursos)\n",
    "* Outliers têm impacto mínimo **obs.**. \n",
    "* Lida bem com conjuntos de dados de grande porte.\n",
    "* Boa velocidade de execução\n",
    "* Bom desempenho do modelo (vence a maioria das competições Kaggle como fez para esse conjunto de dados)\n",
    "* Menos propenso a overfitting\n",
    "\n",
    "**Contras:**\n",
    "* Interpretação difícil, visualização difícil\n",
    "* Overfitting possível se os parâmetros não forem ajustados corretamente.\n",
    "* Mais difícil de ajustar, pois há muitos hiperparâmetros.\n",
    "* O XGBoost não funciona tão bem em dados esparsos e não estruturados.\n",
    "\n",
    "**Observação:** a sensibilidade em relação aos outliers divide opniões em relação a esse algoritmo."
   ]
  },
  {
   "cell_type": "markdown",
   "metadata": {},
   "source": [
    "### 2.4 MLP Multi Layer Perceptron - Classification\n",
    "\n",
    "\n",
    "**Prós:**\n",
    "* As redes neurais são flexíveis e podem ser usadas para problemas de regressão e classificação. Quaisquer dados que possam ser tornados numéricos podem ser usados no modelo, pois a rede neural é um modelo matemático com funções de aproximação.\n",
    "* As redes neurais são boas para modelar com dados não lineares com grande número de entradas; por exemplo, imagens. É confiável em uma abordagem de tarefas envolvendo muitos recursos. Ele funciona dividindo o problema de classificação em uma rede em camadas de elementos mais simples.\n",
    "* Uma vez treinado, as previsões são bem rápidas.\n",
    "* As redes neurais podem ser treinadas com qualquer número de entradas e camadas.\n",
    "* As redes neurais funcionam melhor com mais pontos de dados.\n",
    "\n",
    "**Contras:**\n",
    "\n",
    "* As redes neurais são caixas pretas, o que significa que não podemos saber o quanto cada variável independente está influenciando as variáveis dependentes.\n",
    "* É computacionalmente muito caro e demorado treinar com CPUs tradicionais.\n",
    "* As redes neurais dependem muito dos dados de treinamento. Isso leva ao problema de over-fitting e generalização. O modo depende mais dos dados de treinamento e pode ser ajustado aos dados.\n"
   ]
  },
  {
   "cell_type": "markdown",
   "metadata": {},
   "source": [
    "# 3 Treinamento dos modelos"
   ]
  },
  {
   "cell_type": "code",
   "execution_count": 4,
   "metadata": {},
   "outputs": [],
   "source": [
    "# Criando um dataframe com para armazezar os resultados\n",
    "df_results = pd.DataFrame()"
   ]
  },
  {
   "cell_type": "markdown",
   "metadata": {},
   "source": [
    "## 3.1 Criação dos modelos de Machine Learning"
   ]
  },
  {
   "cell_type": "code",
   "execution_count": 5,
   "metadata": {},
   "outputs": [],
   "source": [
    "# Gerando os Classificadores\n",
    "lr = LogisticRegression()\n",
    "gnb = GaussianNB()\n",
    "rfc = RandomForestClassifier()\n",
    "xgb = XGBClassifier(missing=-1, #missing=-1 indicar que os valores faltantes serão tratados como -1\n",
    "                    eval_metric='auc') \n",
    "iso_fc = IsolationForest()\n",
    "\n",
    "# Criando uma lista com os classificadores\n",
    "clf_list = [\n",
    "    (lr, \"Logistic\"),\n",
    "    (gnb, \"Naive Bayes\"),\n",
    "    (rfc, \"Random forest\"),\n",
    "    (xgb, \"XGBoost\"),\n",
    "    (iso_fc, \"Isolation Forest\")  \n",
    "]"
   ]
  },
  {
   "cell_type": "markdown",
   "metadata": {},
   "source": [
    "## 3.2 Treinamento dos modelos padrão com o conjunto de dados de treino"
   ]
  },
  {
   "cell_type": "code",
   "execution_count": 6,
   "metadata": {},
   "outputs": [
    {
     "name": "stdout",
     "output_type": "stream",
     "text": [
      "Modelo Logistic AUC: 0.5461383181192874\n",
      "Modelo Naive Bayes AUC: 0.6692077595216774\n",
      "Modelo Random forest AUC: 0.6676953874164403\n",
      "Modelo XGBoost AUC: 0.613777900385764\n",
      "Modelo Isolation Forest AUC: 0.6161113581020453\n"
     ]
    },
    {
     "data": {
      "image/png": "[encoded data removed]",
      "text/plain": [
       "<Figure size 720x432 with 4 Axes>"
      ]
     },
     "metadata": {},
     "output_type": "display_data"
    }
   ],
   "source": [
    "# Treinando os classificadores\n",
    "row_g = len(clf_list)//2\n",
    "fig, axes = plt.subplots(row_g, 2, sharex=True, figsize=(10, row_g*3))\n",
    "axes = axes.ravel()\n",
    "bins = np.arange(0, 1.1, 0.1)\n",
    "list_auc = []\n",
    "nome_clf = []\n",
    "for i, (clf, name) in enumerate(clf_list):\n",
    "    clf.fit(X_train, y_train)\n",
    "    # Gerando metrica de performance\n",
    "    predictions = clf.predict(X_val)\n",
    "    if name != 'Isolation Forest': # Isolation Forest não tem metrica predict_proba\n",
    "        axes[i].set_title('{}'.format(name))\n",
    "        sns.histplot(clf.predict_proba(X_val)[:, 1],\n",
    "                 bins=bins,\n",
    "                 alpha = 0.6,\n",
    "                 color=sns.color_palette()[i],\n",
    "                 ax=axes[i])\n",
    "    else:\n",
    "        # Ajuste das predições para equivaler ao formato do problema\n",
    "        predictions = np.where(predictions == 1, 0, 1)\n",
    "        # Avaliação do modelo\n",
    "    print(f'Modelo {name} AUC: {roc_auc_score(y_val, predictions)}')\n",
    "    list_auc.append(roc_auc_score(y_val, predictions))\n",
    "    nome_clf.append(name)\n",
    "df_results['base_original'] = list_auc\n",
    "df_results['nome_clf'] = nome_clf\n",
    "df_results.set_index('nome_clf', inplace=True)\n"
   ]
  },
  {
   "cell_type": "markdown",
   "metadata": {},
   "source": [
    "## 3.3 Treinamento dos modelos com o variações do conjunto de dados de treino\n",
    "\n"
   ]
  },
  {
   "cell_type": "markdown",
   "metadata": {},
   "source": [
    "Nosso problema de classificação é classificar se um dado é fraude ou não. Porém no nosso EDA identificamos que 96,5% das transações não são fraudes e 3,5% são fraudes. Isso pode levar nosso modelo ao viés de não classificar os dados como fraudes. \n",
    "\n",
    "Para evitar esse viés, vamos aplicar 4 técnicas pra lidar com desbalanceamento de dados sendo eles: **Undersampling**, **Oversampling**, **SMOTE** e **ADASYN**.\n",
    "\n",
    "O objetivo é equilibrar os dados de treino para o modelo consiga aprender a indetificar melhor as fraudes em relação as transações não fraudulentas.\n",
    "\n",
    "**Observação:** ainda estaremos trabalhando com os modelos em sua configuração padrão. Os hiperparâmetros serão otimizados em um processo posterior."
   ]
  },
  {
   "cell_type": "code",
   "execution_count": 7,
   "metadata": {},
   "outputs": [],
   "source": [
    "resampler_list = ['RandomUnderSampler', 'RandomOverSampler', 'SMOTE', 'ADASYN']"
   ]
  },
  {
   "cell_type": "code",
   "execution_count": 8,
   "metadata": {},
   "outputs": [
    {
     "name": "stdout",
     "output_type": "stream",
     "text": [
      "RandomUnderSampler()\n",
      "RandomOverSampler()\n",
      "SMOTE()\n",
      "ADASYN()\n"
     ]
    }
   ],
   "source": [
    "# Automatizando o processo de resampling para vários metodos para avaliar o melhor\n",
    "for cod in resampler_list:\n",
    "    print(cod+'()')\n",
    "    eval_resampler = eval(cod+'()')\n",
    "    X_resampled, y_resampled = eval_resampler.fit_resample(X_train, y_train)\n",
    "    list_auc = []\n",
    "    for i, (clf, name) in enumerate(clf_list):\n",
    "        clf.fit(X_resampled, y_resampled)\n",
    "        # Gerando metrica de performance\n",
    "        predictions = clf.predict(X_val)\n",
    "        if name == 'Isolation Forest':\n",
    "            # Ajuste das predições para equivaler ao formato do problema\n",
    "            predictions = np.where(predictions == 1, 0, 1)\n",
    "        list_auc.append(roc_auc_score(y_val, predictions))\n",
    "    df_results[cod] = list_auc"
   ]
  },
  {
   "cell_type": "code",
   "execution_count": 9,
   "metadata": {},
   "outputs": [
    {
     "data": {
      "text/plain": [
       "<AxesSubplot:title={'center':'AUC por Resampler'}, xlabel='Modelo', ylabel='AUC'>"
      ]
     },
     "execution_count": 9,
     "metadata": {},
     "output_type": "execute_result"
    },
    {
     "data": {
      "image/png": "[encoded data removed]",
      "text/plain": [
       "<Figure size 1080x720 with 1 Axes>"
      ]
     },
     "metadata": {},
     "output_type": "display_data"
    }
   ],
   "source": [
    "df_results.plot(kind='bar', figsize=(15, 10), ylabel='AUC',xlabel='Modelo', title='AUC por Resampler')"
   ]
  },
  {
   "cell_type": "markdown",
   "metadata": {},
   "source": [
    "Observamos no gráfico acima que exceto para o modelo de Isolation Forest houve uma redução de desempenho do modelo quando balanceamos os dados. Isso é esperado porque esse modelo trabalha buscando traçar uma superficie de separação dos dados no espaço das variáveis e ao equalizar as classes de fraude e não fraude o desempenho do modelo vai cair.\n",
    "\n",
    "O modelo Naive Bayes não apresentou nenhuma alteração no desempenho quando balanceamos os dados. **melhorara explicação**.\n",
    "\n",
    "Os demais modelo apresentaram uma melhor performance quando balanceamos os dados. Especialmente o modelo Random Forest e o XGBoost. Como ambos destes dois últimos apresentaram uma melhora da performance quando aplicamos o RandomUnderSampler e este método reduz o número de dados de treino, economizando assim tempo de treinamento.\n",
    "\n",
    "Vamos usar o RandomUnderSampler para balancear os dados de treino na etapa de otimização dos hiperparâmetros. "
   ]
  },
  {
   "cell_type": "markdown",
   "metadata": {},
   "source": [
    "## 3.4 Rede Neural - MLP (Multi-Layer Perceptron)\n",
    "\n",
    "Nessa seção iremos trabalhar com um modelo de rede neural MLP para nosso problema de classificação.\n",
    "\n",
    "As redes neurais são estruturas de modelos que podem ter as arquiteturas de estruturas mais diversas e complexas. Achar a estrutura de uma rede neural é uma tarefa complexa e difícil. \n",
    "\n",
    "Em virtude de nossa limitação de tempo, vamos utilizar apenas a estrutura de uma rede neural MLP.\n",
    "\n",
    "**Pros:**\n",
    "* Este modelo é um aproximador geral de funções, lineares e não lineares. Assim ele pode se moldar a qualquer função. Neste caso, como queremos determinar uma fronteira de seperação as redes podem se aproximar de fronteiras fortemente não lineares.\n",
    "\n",
    "\n",
    "**Contras:**\n"
   ]
  },
  {
   "cell_type": "code",
   "execution_count": 11,
   "metadata": {},
   "outputs": [
    {
     "data": {
      "text/plain": [
       "'2.3.0'"
      ]
     },
     "execution_count": 11,
     "metadata": {},
     "output_type": "execute_result"
    }
   ],
   "source": [
    "# Carregando o tensor flow para o modelo de classificação\n",
    "import tensorflow as tf\n",
    "tf.__version__"
   ]
  },
  {
   "cell_type": "code",
   "execution_count": 12,
   "metadata": {},
   "outputs": [],
   "source": [
    "# Criando as camdas da rede neural MLP simples\n",
    "from tensorflow.keras.models import Sequential\n",
    "from tensorflow.keras.layers import Dense, Activation\n",
    "\n",
    "rede_simples = Sequential()\n",
    "\n",
    "# Camada de input e primeira oculta\n",
    "rede_simples.add(Dense(10, input_dim=X_train.shape[1], activation='relu'))\n",
    "\n",
    "# Camada oculta 1\n",
    "rede_simples.add(Dense(4, activation='relu'))\n",
    "\n",
    "# Camada output\n",
    "rede_simples.add(Dense(1,activation='sigmoid'))\n",
    "\n",
    "# Printando a rede\n",
    "#print(rede_simples.summary())"
   ]
  },
  {
   "cell_type": "code",
   "execution_count": 13,
   "metadata": {},
   "outputs": [],
   "source": [
    "# Compilação da rede\n",
    "rede_simples.compile(loss='binary_crossentropy', optimizer='adam', metrics=['AUC'])\n",
    "# Obtendo os pesos iniciais caso precise reiniciar o treinamento\n",
    "pesos_iniciais = rede_simples.get_weights() "
   ]
  },
  {
   "cell_type": "code",
   "execution_count": 14,
   "metadata": {},
   "outputs": [],
   "source": [
    "# Normalizando os dados de treino\n",
    "resampler = RandomUnderSampler()\n",
    "X_train_res, y_train_res = resampler.fit_resample(X_train, y_train)\n",
    "scaler = StandardScaler()\n",
    "X_train_scaled = scaler.fit_transform(X_train_res)\n",
    "X_val_scaled = scaler.transform(X_val)"
   ]
  },
  {
   "cell_type": "code",
   "execution_count": 15,
   "metadata": {},
   "outputs": [],
   "source": [
    "from tensorflow.keras.callbacks import EarlyStopping, ModelCheckpoint\n",
    "# Utilizamos o early stopping para parar o treinamento caso o modelo não melhore \n",
    "# em um determinado número de épocas (epochs) para evitar que o modelo \n",
    "# sofra overfitting\n",
    "early_stop = EarlyStopping(monitor = 'val_loss', \n",
    "                           min_delta = 0.001,\n",
    "                           patience = 10, \n",
    "                           verbose = 1, mode = 'auto')\n",
    "\n",
    "melhor_modelo = ModelCheckpoint('best_model.h5',\n",
    "                                monitor='val_loss',\n",
    "                                save_best_only=True)"
   ]
  },
  {
   "cell_type": "code",
   "execution_count": 16,
   "metadata": {},
   "outputs": [],
   "source": [
    "# setamos os pesos iniciais iguais à versão antes do treinamento \n",
    "# pra ter um comparativo mais real.\n",
    "rede_simples.set_weights(pesos_iniciais)"
   ]
  },
  {
   "cell_type": "code",
   "execution_count": 17,
   "metadata": {},
   "outputs": [
    {
     "name": "stdout",
     "output_type": "stream",
     "text": [
      "Epoch 1/100\n",
      "   1/1034 [..............................] - ETA: 0s - loss: 0.9450 - auc: 0.2930WARNING:tensorflow:Callbacks method `on_train_batch_begin` is slow compared to the batch time (batch time: 0.0000s vs `on_train_batch_begin` time: 0.0010s). Check your callbacks.\n",
      "1034/1034 [==============================] - 3s 3ms/step - loss: 0.5845 - auc: 0.7540 - val_loss: 0.5074 - val_auc: 0.7991\n",
      "Epoch 2/100\n",
      "1034/1034 [==============================] - 3s 3ms/step - loss: 0.5383 - auc: 0.7992 - val_loss: 0.5270 - val_auc: 0.8080\n",
      "Epoch 3/100\n",
      "1034/1034 [==============================] - 3s 2ms/step - loss: 0.5288 - auc: 0.8061 - val_loss: 0.5128 - val_auc: 0.8111\n",
      "Epoch 4/100\n",
      "1034/1034 [==============================] - 3s 3ms/step - loss: 0.5236 - auc: 0.8106 - val_loss: 0.5303 - val_auc: 0.8106\n",
      "Epoch 5/100\n",
      "1034/1034 [==============================] - 2s 2ms/step - loss: 0.5205 - auc: 0.8132 - val_loss: 0.4554 - val_auc: 0.8163\n",
      "Epoch 6/100\n",
      "1034/1034 [==============================] - 3s 2ms/step - loss: 0.5186 - auc: 0.8144 - val_loss: 0.4671 - val_auc: 0.8148\n",
      "Epoch 7/100\n",
      "1034/1034 [==============================] - 2s 2ms/step - loss: 0.5168 - auc: 0.8157 - val_loss: 0.5504 - val_auc: 0.8161\n",
      "Epoch 8/100\n",
      "1034/1034 [==============================] - 2s 2ms/step - loss: 0.5160 - auc: 0.8163 - val_loss: 0.5191 - val_auc: 0.8192\n",
      "Epoch 9/100\n",
      "1034/1034 [==============================] - 2s 2ms/step - loss: 0.5138 - auc: 0.8182 - val_loss: 0.5050 - val_auc: 0.8190\n",
      "Epoch 10/100\n",
      "1034/1034 [==============================] - 2s 2ms/step - loss: 0.5132 - auc: 0.8187 - val_loss: 0.5227 - val_auc: 0.8179\n",
      "Epoch 11/100\n",
      "1034/1034 [==============================] - 2s 2ms/step - loss: 0.5126 - auc: 0.8195 - val_loss: 0.4828 - val_auc: 0.8189\n",
      "Epoch 12/100\n",
      "1034/1034 [==============================] - 2s 2ms/step - loss: 0.5121 - auc: 0.8194 - val_loss: 0.4580 - val_auc: 0.8153\n",
      "Epoch 13/100\n",
      "1034/1034 [==============================] - 2s 2ms/step - loss: 0.5114 - auc: 0.8201 - val_loss: 0.5278 - val_auc: 0.8188\n",
      "Epoch 14/100\n",
      "1034/1034 [==============================] - 2s 2ms/step - loss: 0.5111 - auc: 0.8206 - val_loss: 0.4856 - val_auc: 0.8213\n",
      "Epoch 15/100\n",
      "1034/1034 [==============================] - 3s 2ms/step - loss: 0.5103 - auc: 0.8210 - val_loss: 0.4877 - val_auc: 0.8220\n",
      "Epoch 00015: early stopping\n"
     ]
    }
   ],
   "source": [
    "historico = rede_simples.fit(X_train_scaled,\n",
    "                             y_train_res,\n",
    "                             epochs=100,\n",
    "                             verbose=1,\n",
    "                             validation_data=(X_val_scaled, y_val),\n",
    "                             callbacks=[early_stop, melhor_modelo])"
   ]
  },
  {
   "cell_type": "code",
   "execution_count": 18,
   "metadata": {},
   "outputs": [
    {
     "data": {
      "image/png": "[encoded data removed]",
      "text/plain": [
       "<Figure size 864x432 with 1 Axes>"
      ]
     },
     "metadata": {},
     "output_type": "display_data"
    }
   ],
   "source": [
    "# valor da função de perda NOS DADOS DE TREINO a cada epoch\n",
    "loss = historico.history['loss']\n",
    "\n",
    "# valor da função de perda NOS DADOS DE VALIDAÇÃO a cada epoch\n",
    "val_loss = historico.history['val_loss']\n",
    "\n",
    "# numero de epochs\n",
    "epochs = range(len(loss))\n",
    "\n",
    "# plot\n",
    "plt.figure(figsize=(12, 6))\n",
    "plt.plot(epochs, loss, 'red', label = 'Training loss')\n",
    "plt.plot(epochs, val_loss, 'blue', label = 'Validation loss')\n",
    "plt.title('Training and validation loss')\n",
    "plt.legend()\n",
    "plt.show()"
   ]
  },
  {
   "cell_type": "markdown",
   "metadata": {},
   "source": [
    "A curva acima indica que tanto no treinamento quando na validação o modelo obteve um comportamento similar em relação a função de perda. Isso indica que o modelo no sofreu overfitting. \n",
    "\n",
    "Quando utilizamos o conjunto de dados sem o RandomUnderSampler, o modelo demorou mais para convergir e o resultado em termos da metrica AUC ficou inferior.\n",
    "\n",
    "**Observação:** cuidado ao observar o gráfico, pois as escalas de y estão bem achatadas e podem levar a uma intrepretação equivocada do gráfico."
   ]
  },
  {
   "cell_type": "markdown",
   "metadata": {},
   "source": [
    "# 4 Otimização dos hiperparâmetros\n",
    "\n",
    "Vamos realizar a otimização dos hiperparâmetros dos modelos de Machine Learning do tipo rasos devido ao menor esforço computacional de treinamento para esses modelos.\n",
    "\n",
    "Utilizaremos o pacote optuna que apresenta um bom desepenho para otimização de hiperparâmetros devido ao utlizar combinações de tecnicas de otimização como: RandomizedSearchCV, GridSearchCV, GeneticSearch e BayesianOptimization."
   ]
  },
  {
   "cell_type": "code",
   "execution_count": 19,
   "metadata": {},
   "outputs": [],
   "source": [
    "# Instalação do optuna\n",
    "#!pip install optuna"
   ]
  },
  {
   "cell_type": "code",
   "execution_count": 20,
   "metadata": {},
   "outputs": [],
   "source": [
    "import optuna"
   ]
  },
  {
   "cell_type": "code",
   "execution_count": 21,
   "metadata": {},
   "outputs": [],
   "source": [
    "def objective(trial):\n",
    "    resampler = RandomUnderSampler()\n",
    "    X_train_resampled, y_train_resampled = resampler.fit_resample(X_train,y_train)\n",
    "    classifier_name = trial.suggest_categorical(\"classifier\", [\"NaiveBayes\",\n",
    "                                                               \"RandomForest\",\n",
    "                                                               \"IsolationForest\",\n",
    "                                                               \"LogisticRegression\"])\n",
    "    \n",
    "    if classifier_name == \"IsolationForest\":\n",
    "        contamination = trial.suggest_float(\"contamination\", 0.0, 0.5,step=0.01)\n",
    "        n_estimators = trial.suggest_int(\"n_estimators\", 100, 2000, step=200)\n",
    "        max_sample_rate = trial.suggest_uniform(\"max_sample_rate\", 0.5, 1.0)\n",
    "        classifier_obj = IsolationForest(n_estimators=n_estimators, \n",
    "                                        contamination=contamination,\n",
    "                                        bootstrap=True)                                   \n",
    "        \n",
    "    elif classifier_name == \"NaiveBayes\":\n",
    "        vrs_c = trial.suggest_float(\"vrs_c\", 0.01, 1, step=0.01)\n",
    "        classifier_obj = GaussianNB(var_smoothing = vrs_c)\n",
    "        \n",
    "    elif classifier_name == \"RandomForest\":\n",
    "        rf_max_depth = trial.suggest_int(\"rf_max_depth\", 2, 13, log=True)\n",
    "        rf_n_estimators = trial.suggest_int(\"rf_n_estimators\", 100, 5000, step=200)\n",
    "        rf_min_impurity_decrease = trial.suggest_discrete_uniform(\"rf_min_impurity_decrease\", 0.1, 1.0,0.1)\n",
    "        classifier_obj = RandomForestClassifier(max_depth=rf_max_depth,\n",
    "                                                min_impurity_decrease=rf_min_impurity_decrease,\n",
    "                                                n_estimators=rf_n_estimators)\n",
    "        \n",
    "    elif classifier_name == \"LogisticRegression\":\n",
    "        lr_C = trial.suggest_float(\"lr_C\", 0.01, 10, log=True)\n",
    "        classifier_obj = LogisticRegression(C=lr_C)        \n",
    "            \n",
    "    classifier_obj.fit(X_train_resampled, y_train_resampled)\n",
    "    predictions = classifier_obj.predict(X_val)\n",
    "    \n",
    "    return roc_auc_score(y_val, predictions)"
   ]
  },
  {
   "cell_type": "code",
   "execution_count": 22,
   "metadata": {},
   "outputs": [
    {
     "name": "stderr",
     "output_type": "stream",
     "text": [
      "\u001b[32m[I 2022-04-06 10:34:56,309]\u001b[0m A new study created in memory with name: no-name-1a9955ec-4a58-479b-bb74-a301f27f96be\u001b[0m\n",
      "\u001b[32m[I 2022-04-06 10:35:01,561]\u001b[0m Trial 3 finished with value: 0.6418540715761152 and parameters: {'classifier': 'NaiveBayes', 'vrs_c': 0.6}. Best is trial 3 with value: 0.6418540715761152.\u001b[0m\n",
      "\u001b[32m[I 2022-04-06 10:35:02,150]\u001b[0m Trial 2 finished with value: 0.6359550378729358 and parameters: {'classifier': 'NaiveBayes', 'vrs_c': 0.88}. Best is trial 3 with value: 0.6418540715761152.\u001b[0m\n",
      "\u001b[32m[I 2022-04-06 10:35:02,243]\u001b[0m Trial 9 finished with value: 0.6361067238598248 and parameters: {'classifier': 'NaiveBayes', 'vrs_c': 0.92}. Best is trial 3 with value: 0.6418540715761152.\u001b[0m\n",
      "\u001b[32m[I 2022-04-06 10:35:03,546]\u001b[0m Trial 17 finished with value: 0.6425046847932478 and parameters: {'classifier': 'NaiveBayes', 'vrs_c': 0.17}. Best is trial 17 with value: 0.6425046847932478.\u001b[0m\n",
      "\u001b[32m[I 2022-04-06 10:35:05,926]\u001b[0m Trial 6 finished with value: 0.7322508591949825 and parameters: {'classifier': 'LogisticRegression', 'lr_C': 0.14647890832317917}. Best is trial 6 with value: 0.7322508591949825.\u001b[0m\n",
      "\u001b[32m[I 2022-04-06 10:35:06,023]\u001b[0m Trial 5 finished with value: 0.7275117956377728 and parameters: {'classifier': 'LogisticRegression', 'lr_C': 2.981848898952075}. Best is trial 6 with value: 0.7322508591949825.\u001b[0m\n",
      "\u001b[32m[I 2022-04-06 10:35:06,169]\u001b[0m Trial 14 finished with value: 0.7197567723383929 and parameters: {'classifier': 'LogisticRegression', 'lr_C': 0.13153711738278795}. Best is trial 6 with value: 0.7322508591949825.\u001b[0m\n",
      "\u001b[32m[I 2022-04-06 10:35:06,306]\u001b[0m Trial 12 finished with value: 0.7285313002674242 and parameters: {'classifier': 'LogisticRegression', 'lr_C': 0.018073969036752048}. Best is trial 6 with value: 0.7322508591949825.\u001b[0m\n",
      "\u001b[32m[I 2022-04-06 10:35:09,064]\u001b[0m Trial 19 finished with value: 0.7282240147684362 and parameters: {'classifier': 'LogisticRegression', 'lr_C': 0.05367680367427461}. Best is trial 6 with value: 0.7322508591949825.\u001b[0m\n",
      "\u001b[32m[I 2022-04-06 10:35:12,322]\u001b[0m Trial 21 finished with value: 0.7305042232796158 and parameters: {'classifier': 'LogisticRegression', 'lr_C': 0.26693998364778504}. Best is trial 6 with value: 0.7322508591949825.\u001b[0m\n",
      "\u001b[32m[I 2022-04-06 10:35:12,664]\u001b[0m Trial 23 finished with value: 0.7284281549426938 and parameters: {'classifier': 'LogisticRegression', 'lr_C': 1.274493568907685}. Best is trial 6 with value: 0.7322508591949825.\u001b[0m\n",
      "\u001b[32m[I 2022-04-06 10:35:43,663]\u001b[0m Trial 10 finished with value: 0.5 and parameters: {'classifier': 'RandomForest', 'rf_max_depth': 3, 'rf_n_estimators': 500, 'rf_min_impurity_decrease': 0.4}. Best is trial 6 with value: 0.7322508591949825.\u001b[0m\n",
      "\u001b[32m[I 2022-04-06 10:36:11,176]\u001b[0m Trial 8 finished with value: 0.5 and parameters: {'classifier': 'RandomForest', 'rf_max_depth': 11, 'rf_n_estimators': 900, 'rf_min_impurity_decrease': 0.2}. Best is trial 6 with value: 0.7322508591949825.\u001b[0m\n",
      "\u001b[32m[I 2022-04-06 10:37:17,850]\u001b[0m Trial 0 finished with value: 0.5 and parameters: {'classifier': 'RandomForest', 'rf_max_depth': 4, 'rf_n_estimators': 1900, 'rf_min_impurity_decrease': 0.4}. Best is trial 6 with value: 0.7322508591949825.\u001b[0m\n",
      "\u001b[32m[I 2022-04-06 10:37:45,668]\u001b[0m Trial 15 finished with value: 0.5 and parameters: {'classifier': 'RandomForest', 'rf_max_depth': 2, 'rf_n_estimators': 2300, 'rf_min_impurity_decrease': 0.2}. Best is trial 6 with value: 0.7322508591949825.\u001b[0m\n",
      "\u001b[32m[I 2022-04-06 10:37:48,528]\u001b[0m Trial 16 finished with value: 0.444264016579251 and parameters: {'classifier': 'IsolationForest', 'contamination': 0.18, 'n_estimators': 500, 'max_sample_rate': 0.5848083480064792}. Best is trial 6 with value: 0.7322508591949825.\u001b[0m\n",
      "\u001b[32m[I 2022-04-06 10:37:49,839]\u001b[0m Trial 20 finished with value: 0.5 and parameters: {'classifier': 'RandomForest', 'rf_max_depth': 4, 'rf_n_estimators': 2300, 'rf_min_impurity_decrease': 0.2}. Best is trial 6 with value: 0.7322508591949825.\u001b[0m\n",
      "\u001b[32m[I 2022-04-06 10:38:59,282]\u001b[0m Trial 25 finished with value: 0.5 and parameters: {'classifier': 'RandomForest', 'rf_max_depth': 7, 'rf_n_estimators': 3100, 'rf_min_impurity_decrease': 0.1}. Best is trial 6 with value: 0.7322508591949825.\u001b[0m\n",
      "\u001b[32m[I 2022-04-06 10:39:07,604]\u001b[0m Trial 7 finished with value: 0.48263074764518454 and parameters: {'classifier': 'IsolationForest', 'contamination': 0.04, 'n_estimators': 700, 'max_sample_rate': 0.889180760316882}. Best is trial 6 with value: 0.7322508591949825.\u001b[0m\n",
      "\u001b[32m[I 2022-04-06 10:39:12,562]\u001b[0m Trial 34 finished with value: 0.7288076416382736 and parameters: {'classifier': 'LogisticRegression', 'lr_C': 0.43890028465943387}. Best is trial 6 with value: 0.7322508591949825.\u001b[0m\n",
      "\u001b[32m[I 2022-04-06 10:39:14,277]\u001b[0m Trial 29 finished with value: 0.4230203360547388 and parameters: {'classifier': 'IsolationForest', 'contamination': 0.35000000000000003, 'n_estimators': 300, 'max_sample_rate': 0.5779940029588309}. Best is trial 6 with value: 0.7322508591949825.\u001b[0m\n",
      "\u001b[32m[I 2022-04-06 10:39:16,837]\u001b[0m Trial 26 finished with value: 0.4470795957637337 and parameters: {'classifier': 'IsolationForest', 'contamination': 0.19, 'n_estimators': 700, 'max_sample_rate': 0.7923970589791025}. Best is trial 6 with value: 0.7322508591949825.\u001b[0m\n",
      "\u001b[32m[I 2022-04-06 10:39:17,766]\u001b[0m Trial 35 finished with value: 0.7200697227367696 and parameters: {'classifier': 'LogisticRegression', 'lr_C': 0.3573925433214807}. Best is trial 6 with value: 0.7322508591949825.\u001b[0m\n",
      "\u001b[32m[I 2022-04-06 10:39:19,658]\u001b[0m Trial 36 finished with value: 0.7225215298285295 and parameters: {'classifier': 'LogisticRegression', 'lr_C': 0.40679697381596236}. Best is trial 6 with value: 0.7322508591949825.\u001b[0m\n",
      "\u001b[32m[I 2022-04-06 10:39:22,224]\u001b[0m Trial 37 finished with value: 0.7312761568396974 and parameters: {'classifier': 'LogisticRegression', 'lr_C': 0.30268711887120525}. Best is trial 6 with value: 0.7322508591949825.\u001b[0m\n",
      "\u001b[32m[I 2022-04-06 10:39:23,047]\u001b[0m Trial 38 finished with value: 0.7281166948045273 and parameters: {'classifier': 'LogisticRegression', 'lr_C': 0.3508160934460391}. Best is trial 6 with value: 0.7322508591949825.\u001b[0m\n",
      "\u001b[32m[I 2022-04-06 10:39:24,985]\u001b[0m Trial 39 finished with value: 0.7260155340521008 and parameters: {'classifier': 'LogisticRegression', 'lr_C': 0.21452000563655343}. Best is trial 6 with value: 0.7322508591949825.\u001b[0m\n",
      "\u001b[32m[I 2022-04-06 10:39:27,500]\u001b[0m Trial 40 finished with value: 0.7271352172847683 and parameters: {'classifier': 'LogisticRegression', 'lr_C': 0.11329317641531783}. Best is trial 6 with value: 0.7322508591949825.\u001b[0m\n",
      "\u001b[32m[I 2022-04-06 10:39:28,264]\u001b[0m Trial 41 finished with value: 0.7295659059882509 and parameters: {'classifier': 'LogisticRegression', 'lr_C': 0.06661121359041958}. Best is trial 6 with value: 0.7322508591949825.\u001b[0m\n",
      "\u001b[32m[I 2022-04-06 10:39:30,320]\u001b[0m Trial 42 finished with value: 0.7271628518464288 and parameters: {'classifier': 'LogisticRegression', 'lr_C': 0.06602081878514016}. Best is trial 6 with value: 0.7322508591949825.\u001b[0m\n",
      "\u001b[32m[I 2022-04-06 10:39:32,934]\u001b[0m Trial 43 finished with value: 0.7279602790459172 and parameters: {'classifier': 'LogisticRegression', 'lr_C': 0.04880231618483388}. Best is trial 6 with value: 0.7322508591949825.\u001b[0m\n",
      "\u001b[32m[I 2022-04-06 10:39:33,540]\u001b[0m Trial 44 finished with value: 0.7271619283945892 and parameters: {'classifier': 'LogisticRegression', 'lr_C': 1.2063732054213612}. Best is trial 6 with value: 0.7322508591949825.\u001b[0m\n",
      "\u001b[32m[I 2022-04-06 10:39:35,558]\u001b[0m Trial 45 finished with value: 0.7318504663989045 and parameters: {'classifier': 'LogisticRegression', 'lr_C': 1.0486759312318408}. Best is trial 6 with value: 0.7322508591949825.\u001b[0m\n",
      "\u001b[32m[I 2022-04-06 10:39:38,104]\u001b[0m Trial 46 finished with value: 0.7323456807158896 and parameters: {'classifier': 'LogisticRegression', 'lr_C': 0.7781751264581169}. Best is trial 46 with value: 0.7323456807158896.\u001b[0m\n",
      "\u001b[32m[I 2022-04-06 10:39:38,835]\u001b[0m Trial 47 finished with value: 0.7274360821398735 and parameters: {'classifier': 'LogisticRegression', 'lr_C': 0.023699973466870975}. Best is trial 46 with value: 0.7323456807158896.\u001b[0m\n",
      "\u001b[32m[I 2022-04-06 10:39:40,519]\u001b[0m Trial 48 finished with value: 0.730213160812716 and parameters: {'classifier': 'LogisticRegression', 'lr_C': 0.9905250189187104}. Best is trial 46 with value: 0.7323456807158896.\u001b[0m\n",
      "\u001b[32m[I 2022-04-06 10:39:42,643]\u001b[0m Trial 49 finished with value: 0.7316434879370388 and parameters: {'classifier': 'LogisticRegression', 'lr_C': 1.4331733664807624}. Best is trial 46 with value: 0.7323456807158896.\u001b[0m\n",
      "\u001b[32m[I 2022-04-06 10:40:33,592]\u001b[0m Trial 24 finished with value: 0.5 and parameters: {'classifier': 'RandomForest', 'rf_max_depth': 2, 'rf_n_estimators': 4300, 'rf_min_impurity_decrease': 0.8}. Best is trial 46 with value: 0.7323456807158896.\u001b[0m\n",
      "\u001b[32m[I 2022-04-06 10:41:06,932]\u001b[0m Trial 11 finished with value: 0.5 and parameters: {'classifier': 'RandomForest', 'rf_max_depth': 4, 'rf_n_estimators': 4900, 'rf_min_impurity_decrease': 0.9}. Best is trial 46 with value: 0.7323456807158896.\u001b[0m\n",
      "\u001b[32m[I 2022-04-06 10:41:37,917]\u001b[0m Trial 4 finished with value: 0.4457798479138507 and parameters: {'classifier': 'IsolationForest', 'contamination': 0.17, 'n_estimators': 1100, 'max_sample_rate': 0.5831426481938233}. Best is trial 46 with value: 0.7323456807158896.\u001b[0m\n",
      "\u001b[32m[I 2022-04-06 10:41:40,776]\u001b[0m Trial 18 finished with value: 0.4331205088198407 and parameters: {'classifier': 'IsolationForest', 'contamination': 0.33, 'n_estimators': 1100, 'max_sample_rate': 0.6053774969989238}. Best is trial 46 with value: 0.7323456807158896.\u001b[0m\n",
      "\u001b[32m[I 2022-04-06 10:42:06,506]\u001b[0m Trial 30 finished with value: 0.4159409090597896 and parameters: {'classifier': 'IsolationForest', 'contamination': 0.46, 'n_estimators': 700, 'max_sample_rate': 0.8094705093402901}. Best is trial 46 with value: 0.7323456807158896.\u001b[0m\n",
      "\u001b[32m[I 2022-04-06 10:42:12,453]\u001b[0m Trial 27 finished with value: 0.4235418231072806 and parameters: {'classifier': 'IsolationForest', 'contamination': 0.41000000000000003, 'n_estimators': 1100, 'max_sample_rate': 0.9702851068647915}. Best is trial 46 with value: 0.7323456807158896.\u001b[0m\n",
      "\u001b[32m[I 2022-04-06 10:42:32,283]\u001b[0m Trial 1 finished with value: 0.4334671015240299 and parameters: {'classifier': 'IsolationForest', 'contamination': 0.25, 'n_estimators': 1300, 'max_sample_rate': 0.616173776065547}. Best is trial 46 with value: 0.7323456807158896.\u001b[0m\n",
      "\u001b[32m[I 2022-04-06 10:43:13,190]\u001b[0m Trial 13 finished with value: 0.4326744741512297 and parameters: {'classifier': 'IsolationForest', 'contamination': 0.28, 'n_estimators': 1500, 'max_sample_rate': 0.8669992508425552}. Best is trial 46 with value: 0.7323456807158896.\u001b[0m\n",
      "\u001b[32m[I 2022-04-06 10:43:15,028]\u001b[0m Trial 22 finished with value: 0.435241749873304 and parameters: {'classifier': 'IsolationForest', 'contamination': 0.24, 'n_estimators': 1500, 'max_sample_rate': 0.9503619883002665}. Best is trial 46 with value: 0.7323456807158896.\u001b[0m\n",
      "\u001b[32m[I 2022-04-06 10:44:33,136]\u001b[0m Trial 28 finished with value: 0.443077524259584 and parameters: {'classifier': 'IsolationForest', 'contamination': 0.18, 'n_estimators': 1900, 'max_sample_rate': 0.9954567636724037}. Best is trial 46 with value: 0.7323456807158896.\u001b[0m\n",
      "\u001b[32m[I 2022-04-06 10:44:37,109]\u001b[0m Trial 32 finished with value: 0.41776989140471726 and parameters: {'classifier': 'IsolationForest', 'contamination': 0.45, 'n_estimators': 1700, 'max_sample_rate': 0.9992983837196258}. Best is trial 46 with value: 0.7323456807158896.\u001b[0m\n",
      "\u001b[32m[I 2022-04-06 10:44:54,851]\u001b[0m Trial 31 finished with value: 0.4091723053396692 and parameters: {'classifier': 'IsolationForest', 'contamination': 0.5, 'n_estimators': 1900, 'max_sample_rate': 0.8981977534846619}. Best is trial 46 with value: 0.7323456807158896.\u001b[0m\n",
      "\u001b[32m[I 2022-04-06 10:45:02,795]\u001b[0m Trial 33 finished with value: 0.42113399036754817 and parameters: {'classifier': 'IsolationForest', 'contamination': 0.45, 'n_estimators': 1900, 'max_sample_rate': 0.9796994729056954}. Best is trial 46 with value: 0.7323456807158896.\u001b[0m\n"
     ]
    },
    {
     "name": "stdout",
     "output_type": "stream",
     "text": [
      "FrozenTrial(number=46, values=[0.7323456807158896], datetime_start=datetime.datetime(2022, 4, 6, 10, 39, 32, 947889), datetime_complete=datetime.datetime(2022, 4, 6, 10, 39, 38, 104051), params={'classifier': 'LogisticRegression', 'lr_C': 0.7781751264581169}, distributions={'classifier': CategoricalDistribution(choices=('NaiveBayes', 'RandomForest', 'IsolationForest', 'LogisticRegression')), 'lr_C': LogUniformDistribution(high=10.0, low=0.01)}, user_attrs={}, system_attrs={}, intermediate_values={}, trial_id=46, state=TrialState.COMPLETE, value=None)\n"
     ]
    }
   ],
   "source": [
    "# Estudo de otimização com o optuna\n",
    "# Modelos de classificação do sklearn\n",
    "#sampler = optuna.samplers.CmaEsSampler()\n",
    "study_skl = optuna.create_study(direction=\"maximize\")#, sampler=sampler)\n",
    "study_skl.optimize(objective,n_jobs=-1,n_trials=50)\n",
    "print(study_skl.best_trial)"
   ]
  },
  {
   "cell_type": "code",
   "execution_count": 23,
   "metadata": {},
   "outputs": [
    {
     "data": {
      "application/vnd.plotly.v1+json": {
       "config": {
        "plotlyServerURL": "https://plot.ly"
       },
       "data": [
        {
         "mode": "markers",
         "name": "Objective Value",
         "type": "scatter",
         "x": [
          0,
          1,
          2,
          3,
          4,
          5,
          6,
          7,
          8,
          9,
          10,
          11,
          12,
          13,
          14,
          15,
          16,
          17,
          18,
          19,
          20,
          21,
          22,
          23,
          24,
          25,
          26,
          27,
          28,
          29,
          30,
          31,
          32,
          33,
          34,
          35,
          36,
          37,
          38,
          39,
          40,
          41,
          42,
          43,
          44,
          45,
          46,
          47,
          48,
          49
         ],
         "y": [
          0.5,
          0.4334671015240299,
          0.6359550378729358,
          0.6418540715761152,
          0.4457798479138507,
          0.7275117956377728,
          0.7322508591949825,
          0.48263074764518454,
          0.5,
          0.6361067238598248,
          0.5,
          0.5,
          0.7285313002674242,
          0.4326744741512297,
          0.7197567723383929,
          0.5,
          0.444264016579251,
          0.6425046847932478,
          0.4331205088198407,
          0.7282240147684362,
          0.5,
          0.7305042232796158,
          0.435241749873304,
          0.7284281549426938,
          0.5,
          0.5,
          0.4470795957637337,
          0.4235418231072806,
          0.443077524259584,
          0.4230203360547388,
          0.4159409090597896,
          0.4091723053396692,
          0.41776989140471726,
          0.42113399036754817,
          0.7288076416382736,
          0.7200697227367696,
          0.7225215298285295,
          0.7312761568396974,
          0.7281166948045273,
          0.7260155340521008,
          0.7271352172847683,
          0.7295659059882509,
          0.7271628518464288,
          0.7279602790459172,
          0.7271619283945892,
          0.7318504663989045,
          0.7323456807158896,
          0.7274360821398735,
          0.730213160812716,
          0.7316434879370388
         ]
        },
        {
         "name": "Best Value",
         "type": "scatter",
         "x": [
          0,
          1,
          2,
          3,
          4,
          5,
          6,
          7,
          8,
          9,
          10,
          11,
          12,
          13,
          14,
          15,
          16,
          17,
          18,
          19,
          20,
          21,
          22,
          23,
          24,
          25,
          26,
          27,
          28,
          29,
          30,
          31,
          32,
          33,
          34,
          35,
          36,
          37,
          38,
          39,
          40,
          41,
          42,
          43,
          44,
          45,
          46,
          47,
          48,
          49
         ],
         "y": [
          0.5,
          0.5,
          0.6359550378729358,
          0.6418540715761152,
          0.6418540715761152,
          0.7275117956377728,
          0.7322508591949825,
          0.7322508591949825,
          0.7322508591949825,
          0.7322508591949825,
          0.7322508591949825,
          0.7322508591949825,
          0.7322508591949825,
          0.7322508591949825,
          0.7322508591949825,
          0.7322508591949825,
          0.7322508591949825,
          0.7322508591949825,
          0.7322508591949825,
          0.7322508591949825,
          0.7322508591949825,
          0.7322508591949825,
          0.7322508591949825,
          0.7322508591949825,
          0.7322508591949825,
          0.7322508591949825,
          0.7322508591949825,
          0.7322508591949825,
          0.7322508591949825,
          0.7322508591949825,
          0.7322508591949825,
          0.7322508591949825,
          0.7322508591949825,
          0.7322508591949825,
          0.7322508591949825,
          0.7322508591949825,
          0.7322508591949825,
          0.7322508591949825,
          0.7322508591949825,
          0.7322508591949825,
          0.7322508591949825,
          0.7322508591949825,
          0.7322508591949825,
          0.7322508591949825,
          0.7322508591949825,
          0.7322508591949825,
          0.7323456807158896,
          0.7323456807158896,
          0.7323456807158896,
          0.7323456807158896
         ]
        }
       ],
       "layout": {
        "template": {
         "data": {
          "bar": [
           {
            "error_x": {
             "color": "#2a3f5f"
            },
            "error_y": {
             "color": "#2a3f5f"
            },
            "marker": {
             "line": {
              "color": "#E5ECF6",
              "width": 0.5
             },
             "pattern": {
              "fillmode": "overlay",
              "size": 10,
              "solidity": 0.2
             }
            },
            "type": "bar"
           }
          ],
          "barpolar": [
           {
            "marker": {
             "line": {
              "color": "#E5ECF6",
              "width": 0.5
             },
             "pattern": {
              "fillmode": "overlay",
              "size": 10,
              "solidity": 0.2
             }
            },
            "type": "barpolar"
           }
          ],
          "carpet": [
           {
            "aaxis": {
             "endlinecolor": "#2a3f5f",
             "gridcolor": "white",
             "linecolor": "white",
             "minorgridcolor": "white",
             "startlinecolor": "#2a3f5f"
            },
            "baxis": {
             "endlinecolor": "#2a3f5f",
             "gridcolor": "white",
             "linecolor": "white",
             "minorgridcolor": "white",
             "startlinecolor": "#2a3f5f"
            },
            "type": "carpet"
           }
          ],
          "choropleth": [
           {
            "colorbar": {
             "outlinewidth": 0,
             "ticks": ""
            },
            "type": "choropleth"
           }
          ],
          "contour": [
           {
            "colorbar": {
             "outlinewidth": 0,
             "ticks": ""
            },
            "colorscale": [
             [
              0,
              "#0d0887"
             ],
             [
              0.1111111111111111,
              "#46039f"
             ],
             [
              0.2222222222222222,
              "#7201a8"
             ],
             [
              0.3333333333333333,
              "#9c179e"
             ],
             [
              0.4444444444444444,
              "#bd3786"
             ],
             [
              0.5555555555555556,
              "#d8576b"
             ],
             [
              0.6666666666666666,
              "#ed7953"
             ],
             [
              0.7777777777777778,
              "#fb9f3a"
             ],
             [
              0.8888888888888888,
              "#fdca26"
             ],
             [
              1,
              "#f0f921"
             ]
            ],
            "type": "contour"
           }
          ],
          "contourcarpet": [
           {
            "colorbar": {
             "outlinewidth": 0,
             "ticks": ""
            },
            "type": "contourcarpet"
           }
          ],
          "heatmap": [
           {
            "colorbar": {
             "outlinewidth": 0,
             "ticks": ""
            },
            "colorscale": [
             [
              0,
              "#0d0887"
             ],
             [
              0.1111111111111111,
              "#46039f"
             ],
             [
              0.2222222222222222,
              "#7201a8"
             ],
             [
              0.3333333333333333,
              "#9c179e"
             ],
             [
              0.4444444444444444,
              "#bd3786"
             ],
             [
              0.5555555555555556,
              "#d8576b"
             ],
             [
              0.6666666666666666,
              "#ed7953"
             ],
             [
              0.7777777777777778,
              "#fb9f3a"
             ],
             [
              0.8888888888888888,
              "#fdca26"
             ],
             [
              1,
              "#f0f921"
             ]
            ],
            "type": "heatmap"
           }
          ],
          "heatmapgl": [
           {
            "colorbar": {
             "outlinewidth": 0,
             "ticks": ""
            },
            "colorscale": [
             [
              0,
              "#0d0887"
             ],
             [
              0.1111111111111111,
              "#46039f"
             ],
             [
              0.2222222222222222,
              "#7201a8"
             ],
             [
              0.3333333333333333,
              "#9c179e"
             ],
             [
              0.4444444444444444,
              "#bd3786"
             ],
             [
              0.5555555555555556,
              "#d8576b"
             ],
             [
              0.6666666666666666,
              "#ed7953"
             ],
             [
              0.7777777777777778,
              "#fb9f3a"
             ],
             [
              0.8888888888888888,
              "#fdca26"
             ],
             [
              1,
              "#f0f921"
             ]
            ],
            "type": "heatmapgl"
           }
          ],
          "histogram": [
           {
            "marker": {
             "pattern": {
              "fillmode": "overlay",
              "size": 10,
              "solidity": 0.2
             }
            },
            "type": "histogram"
           }
          ],
          "histogram2d": [
           {
            "colorbar": {
             "outlinewidth": 0,
             "ticks": ""
            },
            "colorscale": [
             [
              0,
              "#0d0887"
             ],
             [
              0.1111111111111111,
              "#46039f"
             ],
             [
              0.2222222222222222,
              "#7201a8"
             ],
             [
              0.3333333333333333,
              "#9c179e"
             ],
             [
              0.4444444444444444,
              "#bd3786"
             ],
             [
              0.5555555555555556,
              "#d8576b"
             ],
             [
              0.6666666666666666,
              "#ed7953"
             ],
             [
              0.7777777777777778,
              "#fb9f3a"
             ],
             [
              0.8888888888888888,
              "#fdca26"
             ],
             [
              1,
              "#f0f921"
             ]
            ],
            "type": "histogram2d"
           }
          ],
          "histogram2dcontour": [
           {
            "colorbar": {
             "outlinewidth": 0,
             "ticks": ""
            },
            "colorscale": [
             [
              0,
              "#0d0887"
             ],
             [
              0.1111111111111111,
              "#46039f"
             ],
             [
              0.2222222222222222,
              "#7201a8"
             ],
             [
              0.3333333333333333,
              "#9c179e"
             ],
             [
              0.4444444444444444,
              "#bd3786"
             ],
             [
              0.5555555555555556,
              "#d8576b"
             ],
             [
              0.6666666666666666,
              "#ed7953"
             ],
             [
              0.7777777777777778,
              "#fb9f3a"
             ],
             [
              0.8888888888888888,
              "#fdca26"
             ],
             [
              1,
              "#f0f921"
             ]
            ],
            "type": "histogram2dcontour"
           }
          ],
          "mesh3d": [
           {
            "colorbar": {
             "outlinewidth": 0,
             "ticks": ""
            },
            "type": "mesh3d"
           }
          ],
          "parcoords": [
           {
            "line": {
             "colorbar": {
              "outlinewidth": 0,
              "ticks": ""
             }
            },
            "type": "parcoords"
           }
          ],
          "pie": [
           {
            "automargin": true,
            "type": "pie"
           }
          ],
          "scatter": [
           {
            "marker": {
             "colorbar": {
              "outlinewidth": 0,
              "ticks": ""
             }
            },
            "type": "scatter"
           }
          ],
          "scatter3d": [
           {
            "line": {
             "colorbar": {
              "outlinewidth": 0,
              "ticks": ""
             }
            },
            "marker": {
             "colorbar": {
              "outlinewidth": 0,
              "ticks": ""
             }
            },
            "type": "scatter3d"
           }
          ],
          "scattercarpet": [
           {
            "marker": {
             "colorbar": {
              "outlinewidth": 0,
              "ticks": ""
             }
            },
            "type": "scattercarpet"
           }
          ],
          "scattergeo": [
           {
            "marker": {
             "colorbar": {
              "outlinewidth": 0,
              "ticks": ""
             }
            },
            "type": "scattergeo"
           }
          ],
          "scattergl": [
           {
            "marker": {
             "colorbar": {
              "outlinewidth": 0,
              "ticks": ""
             }
            },
            "type": "scattergl"
           }
          ],
          "scattermapbox": [
           {
            "marker": {
             "colorbar": {
              "outlinewidth": 0,
              "ticks": ""
             }
            },
            "type": "scattermapbox"
           }
          ],
          "scatterpolar": [
           {
            "marker": {
             "colorbar": {
              "outlinewidth": 0,
              "ticks": ""
             }
            },
            "type": "scatterpolar"
           }
          ],
          "scatterpolargl": [
           {
            "marker": {
             "colorbar": {
              "outlinewidth": 0,
              "ticks": ""
             }
            },
            "type": "scatterpolargl"
           }
          ],
          "scatterternary": [
           {
            "marker": {
             "colorbar": {
              "outlinewidth": 0,
              "ticks": ""
             }
            },
            "type": "scatterternary"
           }
          ],
          "surface": [
           {
            "colorbar": {
             "outlinewidth": 0,
             "ticks": ""
            },
            "colorscale": [
             [
              0,
              "#0d0887"
             ],
             [
              0.1111111111111111,
              "#46039f"
             ],
             [
              0.2222222222222222,
              "#7201a8"
             ],
             [
              0.3333333333333333,
              "#9c179e"
             ],
             [
              0.4444444444444444,
              "#bd3786"
             ],
             [
              0.5555555555555556,
              "#d8576b"
             ],
             [
              0.6666666666666666,
              "#ed7953"
             ],
             [
              0.7777777777777778,
              "#fb9f3a"
             ],
             [
              0.8888888888888888,
              "#fdca26"
             ],
             [
              1,
              "#f0f921"
             ]
            ],
            "type": "surface"
           }
          ],
          "table": [
           {
            "cells": {
             "fill": {
              "color": "#EBF0F8"
             },
             "line": {
              "color": "white"
             }
            },
            "header": {
             "fill": {
              "color": "#C8D4E3"
             },
             "line": {
              "color": "white"
             }
            },
            "type": "table"
           }
          ]
         },
         "layout": {
          "annotationdefaults": {
           "arrowcolor": "#2a3f5f",
           "arrowhead": 0,
           "arrowwidth": 1
          },
          "autotypenumbers": "strict",
          "coloraxis": {
           "colorbar": {
            "outlinewidth": 0,
            "ticks": ""
           }
          },
          "colorscale": {
           "diverging": [
            [
             0,
             "#8e0152"
            ],
            [
             0.1,
             "#c51b7d"
            ],
            [
             0.2,
             "#de77ae"
            ],
            [
             0.3,
             "#f1b6da"
            ],
            [
             0.4,
             "#fde0ef"
            ],
            [
             0.5,
             "#f7f7f7"
            ],
            [
             0.6,
             "#e6f5d0"
            ],
            [
             0.7,
             "#b8e186"
            ],
            [
             0.8,
             "#7fbc41"
            ],
            [
             0.9,
             "#4d9221"
            ],
            [
             1,
             "#276419"
            ]
           ],
           "sequential": [
            [
             0,
             "#0d0887"
            ],
            [
             0.1111111111111111,
             "#46039f"
            ],
            [
             0.2222222222222222,
             "#7201a8"
            ],
            [
             0.3333333333333333,
             "#9c179e"
            ],
            [
             0.4444444444444444,
             "#bd3786"
            ],
            [
             0.5555555555555556,
             "#d8576b"
            ],
            [
             0.6666666666666666,
             "#ed7953"
            ],
            [
             0.7777777777777778,
             "#fb9f3a"
            ],
            [
             0.8888888888888888,
             "#fdca26"
            ],
            [
             1,
             "#f0f921"
            ]
           ],
           "sequentialminus": [
            [
             0,
             "#0d0887"
            ],
            [
             0.1111111111111111,
             "#46039f"
            ],
            [
             0.2222222222222222,
             "#7201a8"
            ],
            [
             0.3333333333333333,
             "#9c179e"
            ],
            [
             0.4444444444444444,
             "#bd3786"
            ],
            [
             0.5555555555555556,
             "#d8576b"
            ],
            [
             0.6666666666666666,
             "#ed7953"
            ],
            [
             0.7777777777777778,
             "#fb9f3a"
            ],
            [
             0.8888888888888888,
             "#fdca26"
            ],
            [
             1,
             "#f0f921"
            ]
           ]
          },
          "colorway": [
           "#636efa",
           "#EF553B",
           "#00cc96",
           "#ab63fa",
           "#FFA15A",
           "#19d3f3",
           "#FF6692",
           "#B6E880",
           "#FF97FF",
           "#FECB52"
          ],
          "font": {
           "color": "#2a3f5f"
          },
          "geo": {
           "bgcolor": "white",
           "lakecolor": "white",
           "landcolor": "#E5ECF6",
           "showlakes": true,
           "showland": true,
           "subunitcolor": "white"
          },
          "hoverlabel": {
           "align": "left"
          },
          "hovermode": "closest",
          "mapbox": {
           "style": "light"
          },
          "paper_bgcolor": "white",
          "plot_bgcolor": "#E5ECF6",
          "polar": {
           "angularaxis": {
            "gridcolor": "white",
            "linecolor": "white",
            "ticks": ""
           },
           "bgcolor": "#E5ECF6",
           "radialaxis": {
            "gridcolor": "white",
            "linecolor": "white",
            "ticks": ""
           }
          },
          "scene": {
           "xaxis": {
            "backgroundcolor": "#E5ECF6",
            "gridcolor": "white",
            "gridwidth": 2,
            "linecolor": "white",
            "showbackground": true,
            "ticks": "",
            "zerolinecolor": "white"
           },
           "yaxis": {
            "backgroundcolor": "#E5ECF6",
            "gridcolor": "white",
            "gridwidth": 2,
            "linecolor": "white",
            "showbackground": true,
            "ticks": "",
            "zerolinecolor": "white"
           },
           "zaxis": {
            "backgroundcolor": "#E5ECF6",
            "gridcolor": "white",
            "gridwidth": 2,
            "linecolor": "white",
            "showbackground": true,
            "ticks": "",
            "zerolinecolor": "white"
           }
          },
          "shapedefaults": {
           "line": {
            "color": "#2a3f5f"
           }
          },
          "ternary": {
           "aaxis": {
            "gridcolor": "white",
            "linecolor": "white",
            "ticks": ""
           },
           "baxis": {
            "gridcolor": "white",
            "linecolor": "white",
            "ticks": ""
           },
           "bgcolor": "#E5ECF6",
           "caxis": {
            "gridcolor": "white",
            "linecolor": "white",
            "ticks": ""
           }
          },
          "title": {
           "x": 0.05
          },
          "xaxis": {
           "automargin": true,
           "gridcolor": "white",
           "linecolor": "white",
           "ticks": "",
           "title": {
            "standoff": 15
           },
           "zerolinecolor": "white",
           "zerolinewidth": 2
          },
          "yaxis": {
           "automargin": true,
           "gridcolor": "white",
           "linecolor": "white",
           "ticks": "",
           "title": {
            "standoff": 15
           },
           "zerolinecolor": "white",
           "zerolinewidth": 2
          }
         }
        },
        "title": {
         "text": "Optimization History Plot"
        },
        "xaxis": {
         "title": {
          "text": "#Trials"
         }
        },
        "yaxis": {
         "title": {
          "text": "Objective Value"
         }
        }
       }
      }
     },
     "metadata": {},
     "output_type": "display_data"
    }
   ],
   "source": [
    "fig = optuna.visualization.plot_optimization_history(study_skl)\n",
    "fig.show()"
   ]
  },
  {
   "cell_type": "code",
   "execution_count": 27,
   "metadata": {},
   "outputs": [
    {
     "data": {
      "text/plain": [
       "FrozenTrial(number=46, values=[0.7323456807158896], datetime_start=datetime.datetime(2022, 4, 6, 10, 39, 32, 947889), datetime_complete=datetime.datetime(2022, 4, 6, 10, 39, 38, 104051), params={'classifier': 'LogisticRegression', 'lr_C': 0.7781751264581169}, distributions={'classifier': CategoricalDistribution(choices=('NaiveBayes', 'RandomForest', 'IsolationForest', 'LogisticRegression')), 'lr_C': LogUniformDistribution(high=10.0, low=0.01)}, user_attrs={}, system_attrs={}, intermediate_values={}, trial_id=46, state=TrialState.COMPLETE, value=None)"
      ]
     },
     "execution_count": 27,
     "metadata": {},
     "output_type": "execute_result"
    }
   ],
   "source": [
    "study_skl.best_trial"
   ]
  },
  {
   "cell_type": "markdown",
   "metadata": {},
   "source": [
    "Fizemos um estudo pouco aprofundado de otimização de hiperparâmetros para os modelos do sci-kit learn, e nesse estudo que ofereceu o melhor desempenho foi o modelo de Regressão Logistica com um AUC de validação de ~0.78. "
   ]
  },
  {
   "cell_type": "markdown",
   "metadata": {},
   "source": [
    "### 3.1 Otimização dos hiperparâmetros do XGBoost"
   ]
  },
  {
   "cell_type": "code",
   "execution_count": 28,
   "metadata": {},
   "outputs": [],
   "source": [
    "import xgboost as xgb"
   ]
  },
  {
   "cell_type": "code",
   "execution_count": 29,
   "metadata": {},
   "outputs": [],
   "source": [
    "def objective(trial):\n",
    "    resampler = RandomUnderSampler()\n",
    "    X_train_resampled, y_train_resampled = resampler.fit_resample(X_train,y_train)\n",
    "    dtrain = xgb.DMatrix(X_train_resampled, label=y_train_resampled)\n",
    "    dvalid = xgb.DMatrix(X_val, label=y_val)    \n",
    "\n",
    "    param = {\n",
    "        \"verbosity\": 0,\n",
    "        \"objective\": \"binary:logistic\",\n",
    "        \"eval_metric\": \"auc\",\n",
    "        \"missing\": -1,\n",
    "        \"tree_method\": \"hist\",\n",
    "        \"early_stopping_rounds\": 50,\n",
    "        \"n_estimators\": trial.suggest_int(\"n_estimators\", 100, 5000, step=200),\n",
    "        \"subsample\": trial.suggest_uniform(\"subsample\", 0.1, 1),\n",
    "        \"colsample_bytree\": trial.suggest_uniform(\"colsample_bytree\", 0.1, 1),\n",
    "        \"eta\": trial.suggest_uniform(\"eta\", 0.01, 0.2),\n",
    "        \"max_depth\": trial.suggest_int(\"max_depth\", 3, 13),\n",
    "        }\n",
    "\n",
    "    # Add a callback for pruning.\n",
    "    bst = xgb.train(param, dtrain, evals=[(dvalid, \"validation\")])\n",
    "    predictions = bst.predict(dvalid)\n",
    "    \n",
    "    return roc_auc_score(y_val, predictions)"
   ]
  },
  {
   "cell_type": "code",
   "execution_count": 30,
   "metadata": {},
   "outputs": [
    {
     "name": "stderr",
     "output_type": "stream",
     "text": [
      "\u001b[32m[I 2022-04-06 10:48:06,289]\u001b[0m A new study created in memory with name: no-name-31fcd3bd-f936-4e86-844a-9d69efbfed37\u001b[0m\n"
     ]
    },
    {
     "name": "stdout",
     "output_type": "stream",
     "text": [
      "[0]\tvalidation-auc:0.74949\n",
      "[0]\tvalidation-auc:0.76379[0]\tvalidation-auc:0.80162\n",
      "\n",
      "[0]\tvalidation-auc:0.79048[0]\tvalidation-auc:0.70454\n",
      "[0]\tvalidation-auc:0.80654[0]\tvalidation-auc:0.78838\n",
      "\n",
      "[0]\tvalidation-auc:0.82327\n",
      "\n",
      "[0]\tvalidation-auc:0.73124\n",
      "[1]\tvalidation-auc:0.78886\n",
      "[1]\tvalidation-auc:0.78246[0]\tvalidation-auc:0.72009[0]\tvalidation-auc:0.76830\n",
      "[0]\tvalidation-auc:0.82046\n",
      "\n",
      "\n",
      "[1]\tvalidation-auc:0.81959[0]\tvalidation-auc:0.78774\n",
      "\n",
      "[0]\tvalidation-auc:0.74296[0]\tvalidation-auc:0.82687\n",
      "\n",
      "[1]\tvalidation-auc:0.81182\n",
      "[1]\tvalidation-auc:0.78525\n",
      "[2]\tvalidation-auc:0.79090[1]\tvalidation-auc:0.81172\n",
      "\n",
      "[1]\tvalidation-auc:0.72616\n",
      "[0]\tvalidation-auc:0.82549[1]\tvalidation-auc:0.81418[1]\tvalidation-auc:0.82906\n",
      "\n",
      "\n",
      "[2]\tvalidation-auc:0.78204\n",
      "[2]\tvalidation-auc:0.75945[2]\tvalidation-auc:0.81124\n",
      "\n",
      "[2]\tvalidation-auc:0.82258\n",
      "[1]\tvalidation-auc:0.83039\n",
      "[3]\tvalidation-auc:0.79229\n",
      "[1]\tvalidation-auc:0.81205\n",
      "[2]\tvalidation-auc:0.81568\n",
      "[1]\tvalidation-auc:0.73317\n",
      "[2]\tvalidation-auc:0.79074\n",
      "[1]\tvalidation-auc:0.79746\n",
      "[3]\tvalidation-auc:0.79129\n",
      "[1]\tvalidation-auc:0.83772\n",
      "[3]\tvalidation-auc:0.76256\n",
      "[1]\tvalidation-auc:0.76497\n",
      "[2]\tvalidation-auc:0.81826\n",
      "[2]\tvalidation-auc:0.83095\n",
      "[3]\tvalidation-auc:0.81449\n",
      "[4]\tvalidation-auc:0.80709\n",
      "[3]\tvalidation-auc:0.82623\n",
      "[4]\tvalidation-auc:0.79147\n",
      "[1]\tvalidation-auc:0.83638\n",
      "[4]\tvalidation-auc:0.78079\n",
      "[3]\tvalidation-auc:0.81791\n",
      "[2]\tvalidation-auc:0.83239\n",
      "[3]\tvalidation-auc:0.79831\n",
      "[2]\tvalidation-auc:0.81754\n",
      "[5]\tvalidation-auc:0.79255\n",
      "[5]\tvalidation-auc:0.80598\n",
      "[2]\tvalidation-auc:0.76508\n",
      "[4]\tvalidation-auc:0.81555\n",
      "[2]\tvalidation-auc:0.80496\n",
      "[5]\tvalidation-auc:0.78043\n",
      "[3]\tvalidation-auc:0.83216\n",
      "[3]\tvalidation-auc:0.82088\n",
      "[2]\tvalidation-auc:0.84124\n",
      "[4]\tvalidation-auc:0.82680\n",
      "[4]\tvalidation-auc:0.81810\n",
      "[6]\tvalidation-auc:0.79404\n",
      "[2]\tvalidation-auc:0.78879\n",
      "[6]\tvalidation-auc:0.78174\n",
      "[6]\tvalidation-auc:0.80712\n",
      "[2]\tvalidation-auc:0.83939\n",
      "[3]\tvalidation-auc:0.83483\n",
      "[5]\tvalidation-auc:0.81603\n",
      "[4]\tvalidation-auc:0.80962\n",
      "[7]\tvalidation-auc:0.79566\n",
      "[3]\tvalidation-auc:0.82283\n",
      "[7]\tvalidation-auc:0.78688\n",
      "[5]\tvalidation-auc:0.81992\n",
      "[4]\tvalidation-auc:0.82091\n",
      "[3]\tvalidation-auc:0.80779\n",
      "[4]\tvalidation-auc:0.83294\n",
      "[5]\tvalidation-auc:0.82872\n",
      "[3]\tvalidation-auc:0.76425\n",
      "[7]\tvalidation-auc:0.81192\n",
      "[8]\tvalidation-auc:0.79568\n",
      "[6]\tvalidation-auc:0.81617\n",
      "[8]\tvalidation-auc:0.78982\n",
      "[3]\tvalidation-auc:0.84469\n",
      "[3]\tvalidation-auc:0.79454\n",
      "[6]\tvalidation-auc:0.82136\n",
      "[5]\tvalidation-auc:0.80961\n",
      "[4]\tvalidation-auc:0.83664\n",
      "[9]\tvalidation-auc:0.79600\n",
      "[6]\tvalidation-auc:0.82822\n",
      "[8]\tvalidation-auc:0.81329\n",
      "[3]\tvalidation-auc:0.84343\n",
      "[4]\tvalidation-auc:0.82512\n",
      "[5]\tvalidation-auc:0.83355[9]\tvalidation-auc:0.78972\n",
      "\n",
      "[5]\tvalidation-auc:0.82108\n",
      "[4]\tvalidation-auc:0.81779\n"
     ]
    },
    {
     "name": "stderr",
     "output_type": "stream",
     "text": [
      "\u001b[32m[I 2022-04-06 10:48:09,899]\u001b[0m Trial 0 finished with value: 0.7959950742866585 and parameters: {'n_estimators': 4700, 'subsample': 0.6540676560209686, 'colsample_bytree': 0.47665028384828156, 'eta': 0.04730343914329829, 'max_depth': 3}. Best is trial 0 with value: 0.7959950742866585.\u001b[0m\n"
     ]
    },
    {
     "name": "stdout",
     "output_type": "stream",
     "text": [
      "[7]\tvalidation-auc:0.81660\n",
      "[4]\tvalidation-auc:0.76914\n",
      "[9]\tvalidation-auc:0.81635[7]\tvalidation-auc:0.82314\n",
      "\n",
      "[6]\tvalidation-auc:0.81064\n"
     ]
    },
    {
     "name": "stderr",
     "output_type": "stream",
     "text": [
      "\u001b[32m[I 2022-04-06 10:48:09,953]\u001b[0m Trial 3 finished with value: 0.7897234075988516 and parameters: {'n_estimators': 700, 'subsample': 0.29096885932556527, 'colsample_bytree': 0.19042978343345163, 'eta': 0.1479845675834264, 'max_depth': 3}. Best is trial 0 with value: 0.7959950742866585.\u001b[0m\n"
     ]
    },
    {
     "name": "stdout",
     "output_type": "stream",
     "text": [
      "[5]\tvalidation-auc:0.83740\n",
      "[7]\tvalidation-auc:0.82892[4]\tvalidation-auc:0.84677\n",
      "\n",
      "[4]\tvalidation-auc:0.80620\n"
     ]
    },
    {
     "name": "stderr",
     "output_type": "stream",
     "text": [
      "\u001b[32m[I 2022-04-06 10:48:10,025]\u001b[0m Trial 8 finished with value: 0.8163505926305252 and parameters: {'n_estimators': 3900, 'subsample': 0.1742959261637349, 'colsample_bytree': 0.3191304707029924, 'eta': 0.11911315346616992, 'max_depth': 5}. Best is trial 8 with value: 0.8163505926305252.\u001b[0m\n"
     ]
    },
    {
     "name": "stdout",
     "output_type": "stream",
     "text": [
      "[6]\tvalidation-auc:0.82221\n",
      "[8]\tvalidation-auc:0.81917\n",
      "[6]\tvalidation-auc:0.83747\n",
      "[4]\tvalidation-auc:0.84365\n",
      "[5]\tvalidation-auc:0.82517\n",
      "[7]\tvalidation-auc:0.82463[8]\tvalidation-auc:0.82672[5]\tvalidation-auc:0.81811\n",
      "[8]\tvalidation-auc:0.83120\n",
      "[5]\tvalidation-auc:0.80630\n",
      "\n",
      "\n",
      "[7]\tvalidation-auc:0.81546[6]\tvalidation-auc:0.82662[5]\tvalidation-auc:0.84393[9]\tvalidation-auc:0.81965[6]\tvalidation-auc:0.83758\n",
      "\n",
      "\n",
      "\n",
      "[7]\tvalidation-auc:0.83752\n",
      "\n",
      "[5]\tvalidation-auc:0.77653\n",
      "[5]\tvalidation-auc:0.84828\n",
      "[9]\tvalidation-auc:0.82762[6]\tvalidation-auc:0.81012[8]\tvalidation-auc:0.82640\n",
      "[6]\tvalidation-auc:0.81793\n",
      "\n",
      "\n",
      "[9]\tvalidation-auc:0.83280\n",
      "[6]\tvalidation-auc:0.84374\n",
      "[8]\tvalidation-auc:0.81617\n",
      "[7]\tvalidation-auc:0.83796\n",
      "[7]\tvalidation-auc:0.82847\n",
      "[6]\tvalidation-auc:0.78303[8]\tvalidation-auc:0.83989\n",
      "\n",
      "[9]\tvalidation-auc:0.82794\n",
      "[7]\tvalidation-auc:0.82239\n",
      "[6]\tvalidation-auc:0.84866\n",
      "[8]\tvalidation-auc:0.83869\n",
      "[7]\tvalidation-auc:0.84425\n",
      "[7]\tvalidation-auc:0.81439\n",
      "[9]\tvalidation-auc:0.81997\n"
     ]
    },
    {
     "name": "stderr",
     "output_type": "stream",
     "text": [
      "\u001b[32m[I 2022-04-06 10:48:10,551]\u001b[0m Trial 9 finished with value: 0.8196489152864025 and parameters: {'n_estimators': 3900, 'subsample': 0.9124743147533568, 'colsample_bytree': 0.6319572022348711, 'eta': 0.022721930720137916, 'max_depth': 6}. Best is trial 9 with value: 0.8196489152864025.\u001b[0m\n",
      "\u001b[32m[I 2022-04-06 10:48:10,573]\u001b[0m Trial 4 finished with value: 0.8327995371277263 and parameters: {'n_estimators': 4900, 'subsample': 0.6510471611695634, 'colsample_bytree': 0.5345995969035003, 'eta': 0.15221189997589, 'max_depth': 7}. Best is trial 4 with value: 0.8327995371277263.\u001b[0m\n"
     ]
    },
    {
     "name": "stdout",
     "output_type": "stream",
     "text": [
      "[8]\tvalidation-auc:0.82859\n",
      "[7]\tvalidation-auc:0.79415[8]\tvalidation-auc:0.82352\n",
      "\n"
     ]
    },
    {
     "name": "stderr",
     "output_type": "stream",
     "text": [
      "\u001b[32m[I 2022-04-06 10:48:10,667]\u001b[0m Trial 11 finished with value: 0.8276197790009917 and parameters: {'n_estimators': 3700, 'subsample': 0.6680833773788901, 'colsample_bytree': 0.9633906351722257, 'eta': 0.12593942847147516, 'max_depth': 6}. Best is trial 4 with value: 0.8327995371277263.\u001b[0m\n"
     ]
    },
    {
     "name": "stdout",
     "output_type": "stream",
     "text": [
      "[7]\tvalidation-auc:0.84942[8]\tvalidation-auc:0.84434\n",
      "\n",
      "[9]\tvalidation-auc:0.84216\n",
      "[9]\tvalidation-auc:0.83957\n",
      "[8]\tvalidation-auc:0.81579\n"
     ]
    },
    {
     "name": "stderr",
     "output_type": "stream",
     "text": [
      "\u001b[32m[I 2022-04-06 10:48:10,727]\u001b[0m Trial 13 finished with value: 0.8279406689623113 and parameters: {'n_estimators': 4700, 'subsample': 0.13831380776028557, 'colsample_bytree': 0.5355885525848981, 'eta': 0.020733133863372326, 'max_depth': 9}. Best is trial 4 with value: 0.8327995371277263.\u001b[0m\n",
      "\u001b[32m[I 2022-04-06 10:48:10,845]\u001b[0m Trial 14 finished with value: 0.819970684119128 and parameters: {'n_estimators': 3500, 'subsample': 0.1679308201802596, 'colsample_bytree': 0.28027583538681333, 'eta': 0.14647136860072846, 'max_depth': 8}. Best is trial 4 with value: 0.8327995371277263.\u001b[0m\n"
     ]
    },
    {
     "name": "stdout",
     "output_type": "stream",
     "text": [
      "[9]\tvalidation-auc:0.82649[8]\tvalidation-auc:0.79511[8]\tvalidation-auc:0.84984\n",
      "[9]\tvalidation-auc:0.84649\n",
      "\n",
      "[9]\tvalidation-auc:0.81505\n",
      "[9]\tvalidation-auc:0.83042\n",
      "\n",
      "[9]\tvalidation-auc:0.79519\n",
      "[9]\tvalidation-auc:0.85079[0]\tvalidation-auc:0.72431\n",
      "[0]\tvalidation-auc:0.71078\n",
      "\n",
      "[1]\tvalidation-auc:0.72925\n",
      "[1]\tvalidation-auc:0.76676\n"
     ]
    },
    {
     "name": "stderr",
     "output_type": "stream",
     "text": [
      "\u001b[32m[I 2022-04-06 10:48:11,418]\u001b[0m Trial 5 finished with value: 0.8421685016203131 and parameters: {'n_estimators': 1700, 'subsample': 0.9069453677937501, 'colsample_bytree': 0.8532378391529852, 'eta': 0.13230889735361848, 'max_depth': 9}. Best is trial 5 with value: 0.8421685016203131.\u001b[0m\n"
     ]
    },
    {
     "name": "stdout",
     "output_type": "stream",
     "text": [
      "[0]\tvalidation-auc:0.79612\n",
      "[2]\tvalidation-auc:0.76397\n",
      "[2]\tvalidation-auc:0.77236\n",
      "[1]\tvalidation-auc:0.80280\n",
      "[3]\tvalidation-auc:0.77133\n",
      "[3]\tvalidation-auc:0.77198\n"
     ]
    },
    {
     "name": "stderr",
     "output_type": "stream",
     "text": [
      "\u001b[32m[I 2022-04-06 10:48:11,565]\u001b[0m Trial 6 finished with value: 0.8395749372410984 and parameters: {'n_estimators': 1700, 'subsample': 0.7419682649533909, 'colsample_bytree': 0.9901886154140521, 'eta': 0.07777710867369447, 'max_depth': 9}. Best is trial 5 with value: 0.8421685016203131.\u001b[0m\n"
     ]
    },
    {
     "name": "stdout",
     "output_type": "stream",
     "text": [
      "[2]\tvalidation-auc:0.80671\n",
      "[4]\tvalidation-auc:0.77296\n",
      "[4]\tvalidation-auc:0.78663\n",
      "[5]\tvalidation-auc:0.77421\n"
     ]
    },
    {
     "name": "stderr",
     "output_type": "stream",
     "text": [
      "\u001b[32m[I 2022-04-06 10:48:11,711]\u001b[0m Trial 1 finished with value: 0.8150590794235983 and parameters: {'n_estimators': 4900, 'subsample': 0.9296588021652322, 'colsample_bytree': 0.21337492705247033, 'eta': 0.030518353113790142, 'max_depth': 13}. Best is trial 5 with value: 0.8421685016203131.\u001b[0m\n",
      "\u001b[32m[I 2022-04-06 10:48:11,712]\u001b[0m Trial 15 finished with value: 0.846488237372977 and parameters: {'n_estimators': 500, 'subsample': 0.9913635684085524, 'colsample_bytree': 0.6541231819001835, 'eta': 0.03970205084026225, 'max_depth': 12}. Best is trial 15 with value: 0.846488237372977.\u001b[0m\n"
     ]
    },
    {
     "name": "stdout",
     "output_type": "stream",
     "text": [
      "[3]\tvalidation-auc:0.81382\n"
     ]
    },
    {
     "name": "stderr",
     "output_type": "stream",
     "text": [
      "\u001b[32m[I 2022-04-06 10:48:11,714]\u001b[0m Trial 2 finished with value: 0.8304123663575456 and parameters: {'n_estimators': 4700, 'subsample': 0.12022457913771378, 'colsample_bytree': 0.7171961577258764, 'eta': 0.17722491831427342, 'max_depth': 10}. Best is trial 15 with value: 0.846488237372977.\u001b[0m\n",
      "\u001b[32m[I 2022-04-06 10:48:11,725]\u001b[0m Trial 12 finished with value: 0.8264936899845864 and parameters: {'n_estimators': 4300, 'subsample': 0.1838218799629379, 'colsample_bytree': 0.38549386958646714, 'eta': 0.06951895305967006, 'max_depth': 11}. Best is trial 15 with value: 0.846488237372977.\u001b[0m\n"
     ]
    },
    {
     "name": "stdout",
     "output_type": "stream",
     "text": [
      "[6]\tvalidation-auc:0.77733[5]\tvalidation-auc:0.78553\n",
      "\n",
      "[4]\tvalidation-auc:0.81567\n",
      "[7]\tvalidation-auc:0.79242\n"
     ]
    },
    {
     "name": "stderr",
     "output_type": "stream",
     "text": [
      "\u001b[32m[I 2022-04-06 10:48:11,894]\u001b[0m Trial 10 finished with value: 0.8508024578891366 and parameters: {'n_estimators': 4700, 'subsample': 0.6745199459686476, 'colsample_bytree': 0.9860616256753023, 'eta': 0.12150681746445807, 'max_depth': 13}. Best is trial 10 with value: 0.8508024578891366.\u001b[0m\n",
      "\u001b[32m[I 2022-04-06 10:48:11,903]\u001b[0m Trial 7 finished with value: 0.7951902361207974 and parameters: {'n_estimators': 300, 'subsample': 0.7280960977295752, 'colsample_bytree': 0.12360978722716964, 'eta': 0.12181555566573128, 'max_depth': 13}. Best is trial 10 with value: 0.8508024578891366.\u001b[0m\n"
     ]
    },
    {
     "name": "stdout",
     "output_type": "stream",
     "text": [
      "[6]\tvalidation-auc:0.78585\n",
      "[8]\tvalidation-auc:0.79422\n",
      "[5]\tvalidation-auc:0.81584\n",
      "[7]\tvalidation-auc:0.79227\n",
      "[9]\tvalidation-auc:0.79449\n",
      "[6]\tvalidation-auc:0.81727[8]\tvalidation-auc:0.79595\n",
      "\n",
      "[9]\tvalidation-auc:0.79712\n",
      "[7]\tvalidation-auc:0.82196\n",
      "[8]\tvalidation-auc:0.82296\n",
      "[9]\tvalidation-auc:0.82345\n"
     ]
    },
    {
     "name": "stderr",
     "output_type": "stream",
     "text": [
      "\u001b[32m[I 2022-04-06 10:48:12,890]\u001b[0m Trial 18 finished with value: 0.7944951475524785 and parameters: {'n_estimators': 2300, 'subsample': 0.16149734017555364, 'colsample_bytree': 0.1831644635724498, 'eta': 0.1276319325547902, 'max_depth': 5}. Best is trial 10 with value: 0.8508024578891366.\u001b[0m\n"
     ]
    },
    {
     "name": "stdout",
     "output_type": "stream",
     "text": [
      "[0]\tvalidation-auc:0.81579\n",
      "[1]\tvalidation-auc:0.83222\n"
     ]
    },
    {
     "name": "stderr",
     "output_type": "stream",
     "text": [
      "\u001b[32m[I 2022-04-06 10:48:13,059]\u001b[0m Trial 16 finished with value: 0.7971172051974205 and parameters: {'n_estimators': 2700, 'subsample': 0.5884710586877583, 'colsample_bytree': 0.40393055975127035, 'eta': 0.13916836659996124, 'max_depth': 3}. Best is trial 10 with value: 0.8508024578891366.\u001b[0m\n",
      "\u001b[32m[I 2022-04-06 10:48:13,114]\u001b[0m Trial 17 finished with value: 0.8234536621154467 and parameters: {'n_estimators': 2700, 'subsample': 0.17522131964134896, 'colsample_bytree': 0.9691050310574602, 'eta': 0.15048877963219573, 'max_depth': 5}. Best is trial 10 with value: 0.8508024578891366.\u001b[0m\n"
     ]
    },
    {
     "name": "stdout",
     "output_type": "stream",
     "text": [
      "[2]\tvalidation-auc:0.83735\n",
      "[0]\tvalidation-auc:0.81672\n",
      "[3]\tvalidation-auc:0.84191[1]\tvalidation-auc:0.83132\n",
      "\n",
      "[0]\tvalidation-auc:0.81610\n",
      "[0]\tvalidation-auc:0.80961\n",
      "[4]\tvalidation-auc:0.84251[1]\tvalidation-auc:0.83435\n",
      "\n",
      "[2]\tvalidation-auc:0.83597\n",
      "[3]\tvalidation-auc:0.83872\n",
      "[5]\tvalidation-auc:0.84308\n",
      "[1]\tvalidation-auc:0.82573\n",
      "[2]\tvalidation-auc:0.83740\n",
      "[0]\tvalidation-auc:0.81337\n",
      "[0]\tvalidation-auc:0.81437\n",
      "[6]\tvalidation-auc:0.84357\n",
      "[4]\tvalidation-auc:0.84004\n",
      "[2]\tvalidation-auc:0.83193\n",
      "[3]\tvalidation-auc:0.83965\n",
      "[0]\tvalidation-auc:0.81544\n",
      "[0]\tvalidation-auc:0.81238\n",
      "[0]\tvalidation-auc:0.81507\n",
      "[0]\tvalidation-auc:0.81285\n",
      "[0]\tvalidation-auc:0.81576\n",
      "[7]\tvalidation-auc:0.84299\n",
      "[5]\tvalidation-auc:0.84071\n",
      "[1]\tvalidation-auc:0.83051\n",
      "[1]\tvalidation-auc:0.83320\n",
      "[0]\tvalidation-auc:0.81000\n",
      "[1]\tvalidation-auc:0.83132\n",
      "[3]\tvalidation-auc:0.83422\n",
      "[1]\tvalidation-auc:0.83125\n",
      "[4]\tvalidation-auc:0.84033\n",
      "[1]\tvalidation-auc:0.83160\n",
      "[1]\tvalidation-auc:0.82937\n",
      "[0]\tvalidation-auc:0.80556\n",
      "[0]\tvalidation-auc:0.81384\n",
      "[0]\tvalidation-auc:0.81219\n",
      "[1]\tvalidation-auc:0.83218\n",
      "[0]\tvalidation-auc:0.81855\n",
      "[8]\tvalidation-auc:0.84533\n",
      "[6]\tvalidation-auc:0.84063\n",
      "[2]\tvalidation-auc:0.83452\n",
      "[2]\tvalidation-auc:0.83610\n",
      "[2]\tvalidation-auc:0.83740\n",
      "[1]\tvalidation-auc:0.82806\n",
      "[4]\tvalidation-auc:0.83641\n",
      "[5]\tvalidation-auc:0.84096\n",
      "[2]\tvalidation-auc:0.83557\n",
      "[2]\tvalidation-auc:0.83564\n",
      "[2]\tvalidation-auc:0.83260\n",
      "[1]\tvalidation-auc:0.82207\n",
      "[1]\tvalidation-auc:0.82774\n",
      "[1]\tvalidation-auc:0.83004\n",
      "[2]\tvalidation-auc:0.83641\n",
      "[1]\tvalidation-auc:0.83263\n",
      "[7]\tvalidation-auc:0.84023\n",
      "[3]\tvalidation-auc:0.83778\n",
      "[9]\tvalidation-auc:0.84667\n",
      "[3]\tvalidation-auc:0.83838\n",
      "[2]\tvalidation-auc:0.83320\n",
      "[3]\tvalidation-auc:0.83951\n",
      "[5]\tvalidation-auc:0.83805\n",
      "[6]\tvalidation-auc:0.84083\n",
      "[3]\tvalidation-auc:0.83883\n",
      "[3]\tvalidation-auc:0.83481\n",
      "[3]\tvalidation-auc:0.83847\n",
      "[2]\tvalidation-auc:0.82859\n",
      "[2]\tvalidation-auc:0.83324\n",
      "[2]\tvalidation-auc:0.83436\n",
      "[3]\tvalidation-auc:0.83921\n"
     ]
    },
    {
     "name": "stderr",
     "output_type": "stream",
     "text": [
      "\u001b[32m[I 2022-04-06 10:48:15,120]\u001b[0m Trial 19 finished with value: 0.846661635092486 and parameters: {'n_estimators': 2500, 'subsample': 0.4794357049656701, 'colsample_bytree': 0.7577623517224201, 'eta': 0.08819805690646647, 'max_depth': 12}. Best is trial 10 with value: 0.8508024578891366.\u001b[0m\n"
     ]
    },
    {
     "name": "stdout",
     "output_type": "stream",
     "text": [
      "[2]\tvalidation-auc:0.83704\n",
      "[8]\tvalidation-auc:0.84269\n",
      "[4]\tvalidation-auc:0.83883\n",
      "[4]\tvalidation-auc:0.83920\n",
      "[3]\tvalidation-auc:0.83492\n",
      "[6]\tvalidation-auc:0.83828\n",
      "[4]\tvalidation-auc:0.83994\n",
      "[7]\tvalidation-auc:0.84161\n",
      "[4]\tvalidation-auc:0.84023\n",
      "[4]\tvalidation-auc:0.83558\n",
      "[3]\tvalidation-auc:0.83241\n",
      "[4]\tvalidation-auc:0.83862\n",
      "[3]\tvalidation-auc:0.83726\n",
      "[3]\tvalidation-auc:0.83658\n",
      "[4]\tvalidation-auc:0.83239[5]\tvalidation-auc:0.84002\n",
      "\n",
      "[4]\tvalidation-auc:0.83912\n",
      "[3]\tvalidation-auc:0.84016\n",
      "[5]\tvalidation-auc:0.83969\n",
      "[7]\tvalidation-auc:0.83858\n",
      "[5]\tvalidation-auc:0.83648\n",
      "[9]\tvalidation-auc:0.84463\n",
      "[5]\tvalidation-auc:0.83964[4]\tvalidation-auc:0.83962\n",
      "\n",
      "[4]\tvalidation-auc:0.83581\n",
      "[5]\tvalidation-auc:0.84223[8]\tvalidation-auc:0.84338\n",
      "\n",
      "[5]\tvalidation-auc:0.84047\n"
     ]
    },
    {
     "name": "stderr",
     "output_type": "stream",
     "text": [
      "\u001b[32m[I 2022-04-06 10:48:15,503]\u001b[0m Trial 21 finished with value: 0.8446287046937412 and parameters: {'n_estimators': 2900, 'subsample': 0.45910104021156706, 'colsample_bytree': 0.803265624429283, 'eta': 0.09117754812133694, 'max_depth': 11}. Best is trial 10 with value: 0.8508024578891366.\u001b[0m\n"
     ]
    },
    {
     "name": "stdout",
     "output_type": "stream",
     "text": [
      "[6]\tvalidation-auc:0.84005\n",
      "[5]\tvalidation-auc:0.83703\n",
      "[4]\tvalidation-auc:0.83868\n",
      "[8]\tvalidation-auc:0.84115\n",
      "[6]\tvalidation-auc:0.83805[5]\tvalidation-auc:0.84067\n",
      "\n",
      "[9]\tvalidation-auc:0.84479\n",
      "[6]\tvalidation-auc:0.84235\n",
      "[6]\tvalidation-auc:0.84010\n",
      "[6]\tvalidation-auc:0.83998\n",
      "[5]\tvalidation-auc:0.83418\n",
      "[4]\tvalidation-auc:0.84066\n",
      "[5]\tvalidation-auc:0.83925\n",
      "[6]\tvalidation-auc:0.84074\n",
      "[6]\tvalidation-auc:0.83576[5]\tvalidation-auc:0.83872[7]\tvalidation-auc:0.84137\n",
      "\n",
      "\n",
      "[6]\tvalidation-auc:0.83750\n",
      "[7]\tvalidation-auc:0.84021\n",
      "[9]\tvalidation-auc:0.84385\n",
      "[7]\tvalidation-auc:0.84267[6]\tvalidation-auc:0.84036\n",
      "\n",
      "[7]\tvalidation-auc:0.83929\n"
     ]
    },
    {
     "name": "stderr",
     "output_type": "stream",
     "text": [
      "\u001b[32m[I 2022-04-06 10:48:15,811]\u001b[0m Trial 22 finished with value: 0.84479749682988 and parameters: {'n_estimators': 900, 'subsample': 0.43998938072469945, 'colsample_bytree': 0.7854586620153761, 'eta': 0.09280381799594073, 'max_depth': 12}. Best is trial 10 with value: 0.8508024578891366.\u001b[0m\n"
     ]
    },
    {
     "name": "stdout",
     "output_type": "stream",
     "text": [
      "[7]\tvalidation-auc:0.84098[5]\tvalidation-auc:0.84107\n",
      "[7]\tvalidation-auc:0.84065\n",
      "\n",
      "[6]\tvalidation-auc:0.84027\n",
      "[7]\tvalidation-auc:0.83676[7]\tvalidation-auc:0.84065[0]\tvalidation-auc:0.80889[8]\tvalidation-auc:0.84331\n",
      "[8]\tvalidation-auc:0.84324\n",
      "\n",
      "[8]\tvalidation-auc:0.84210[6]\tvalidation-auc:0.84246[7]\tvalidation-auc:0.84008\n",
      "\n",
      "\n",
      "\n",
      "\n",
      "[7]\tvalidation-auc:0.83797\n",
      "[8]\tvalidation-auc:0.84325\n"
     ]
    },
    {
     "name": "stderr",
     "output_type": "stream",
     "text": [
      "\u001b[32m[I 2022-04-06 10:48:16,076]\u001b[0m Trial 20 finished with value: 0.8438538585453288 and parameters: {'n_estimators': 900, 'subsample': 0.42747200694170234, 'colsample_bytree': 0.7847842966993672, 'eta': 0.09205884333318262, 'max_depth': 12}. Best is trial 10 with value: 0.8508024578891366.\u001b[0m\n"
     ]
    },
    {
     "name": "stdout",
     "output_type": "stream",
     "text": [
      "[8]\tvalidation-auc:0.84295\n",
      "[6]\tvalidation-auc:0.83986\n",
      "[8]\tvalidation-auc:0.84462\n",
      "[1]\tvalidation-auc:0.82836\n",
      "[8]\tvalidation-auc:0.84078[9]\tvalidation-auc:0.84435[7]\tvalidation-auc:0.83984[9]\tvalidation-auc:0.84440\n",
      "[8]\tvalidation-auc:0.84321\n",
      "\n",
      "[8]\tvalidation-auc:0.84201\n",
      "\n",
      "\n",
      "[9]\tvalidation-auc:0.84728\n",
      "[9]\tvalidation-auc:0.84507\n",
      "[8]\tvalidation-auc:0.83947[7]\tvalidation-auc:0.84307\n",
      "\n",
      "[9]\tvalidation-auc:0.84515\n",
      "[9]\tvalidation-auc:0.84488\n",
      "[2]\tvalidation-auc:0.83198\n",
      "[9]\tvalidation-auc:0.84534\n"
     ]
    },
    {
     "name": "stderr",
     "output_type": "stream",
     "text": [
      "\u001b[32m[I 2022-04-06 10:48:16,618]\u001b[0m Trial 26 finished with value: 0.8443918562798998 and parameters: {'n_estimators': 900, 'subsample': 0.4424581227588117, 'colsample_bytree': 0.7699956721766378, 'eta': 0.09204440565806055, 'max_depth': 12}. Best is trial 10 with value: 0.8508024578891366.\u001b[0m\n",
      "\u001b[32m[I 2022-04-06 10:48:16,620]\u001b[0m Trial 30 finished with value: 0.8450871719961426 and parameters: {'n_estimators': 1100, 'subsample': 0.4470849096495488, 'colsample_bytree': 0.8072965213833049, 'eta': 0.09478586134207075, 'max_depth': 12}. Best is trial 10 with value: 0.8508024578891366.\u001b[0m\n",
      "\u001b[32m[I 2022-04-06 10:48:16,640]\u001b[0m Trial 31 finished with value: 0.8443536943672675 and parameters: {'n_estimators': 1100, 'subsample': 0.36563139866340755, 'colsample_bytree': 0.7790402525813312, 'eta': 0.09496231577074779, 'max_depth': 12}. Best is trial 10 with value: 0.8508024578891366.\u001b[0m\n"
     ]
    },
    {
     "name": "stdout",
     "output_type": "stream",
     "text": [
      "[8]\tvalidation-auc:0.84527\n"
     ]
    },
    {
     "name": "stderr",
     "output_type": "stream",
     "text": [
      "\u001b[32m[I 2022-04-06 10:48:16,644]\u001b[0m Trial 29 finished with value: 0.8448822399884686 and parameters: {'n_estimators': 1100, 'subsample': 0.41936487392897015, 'colsample_bytree': 0.7701874006554428, 'eta': 0.09259702998609941, 'max_depth': 12}. Best is trial 10 with value: 0.8508024578891366.\u001b[0m\n"
     ]
    },
    {
     "name": "stdout",
     "output_type": "stream",
     "text": [
      "[9]\tvalidation-auc:0.84358\n",
      "[9]\tvalidation-auc:0.84116[9]\tvalidation-auc:0.84275\n",
      "\n",
      "[8]\tvalidation-auc:0.84249\n"
     ]
    },
    {
     "name": "stderr",
     "output_type": "stream",
     "text": [
      "\u001b[32m[I 2022-04-06 10:48:16,683]\u001b[0m Trial 24 finished with value: 0.8451442848388261 and parameters: {'n_estimators': 1100, 'subsample': 0.4076247923014051, 'colsample_bytree': 0.784510414569852, 'eta': 0.08928897174086813, 'max_depth': 12}. Best is trial 10 with value: 0.8508024578891366.\u001b[0m\n",
      "\u001b[32m[I 2022-04-06 10:48:16,696]\u001b[0m Trial 27 finished with value: 0.8472850998869726 and parameters: {'n_estimators': 1100, 'subsample': 0.43435933629596646, 'colsample_bytree': 0.7435223098549892, 'eta': 0.091239970951373, 'max_depth': 12}. Best is trial 10 with value: 0.8508024578891366.\u001b[0m\n"
     ]
    },
    {
     "name": "stdout",
     "output_type": "stream",
     "text": [
      "[3]\tvalidation-auc:0.83720[0]\tvalidation-auc:0.82124[0]\tvalidation-auc:0.82101\n",
      "[9]\tvalidation-auc:0.84335\n",
      "[9]\tvalidation-auc:0.84670\n",
      "\n",
      "\n",
      "[1]\tvalidation-auc:0.83571[4]\tvalidation-auc:0.83791\n",
      "[1]\tvalidation-auc:0.83621\n",
      "\n"
     ]
    },
    {
     "name": "stderr",
     "output_type": "stream",
     "text": [
      "\u001b[32m[I 2022-04-06 10:48:17,367]\u001b[0m Trial 25 finished with value: 0.8453409737120329 and parameters: {'n_estimators': 1100, 'subsample': 0.4326120485475877, 'colsample_bytree': 0.7930647106879568, 'eta': 0.0963372500763036, 'max_depth': 12}. Best is trial 10 with value: 0.8508024578891366.\u001b[0m\n"
     ]
    },
    {
     "name": "stdout",
     "output_type": "stream",
     "text": [
      "[2]\tvalidation-auc:0.83867\n"
     ]
    },
    {
     "name": "stderr",
     "output_type": "stream",
     "text": [
      "\u001b[32m[I 2022-04-06 10:48:17,444]\u001b[0m Trial 32 finished with value: 0.8427573231721079 and parameters: {'n_estimators': 900, 'subsample': 0.3648516223417376, 'colsample_bytree': 0.7936754474131313, 'eta': 0.09389132899001104, 'max_depth': 12}. Best is trial 10 with value: 0.8508024578891366.\u001b[0m\n",
      "\u001b[32m[I 2022-04-06 10:48:17,533]\u001b[0m Trial 23 finished with value: 0.8411413578149262 and parameters: {'n_estimators': 1100, 'subsample': 0.3461808243109947, 'colsample_bytree': 0.7712758594777018, 'eta': 0.0923670081802993, 'max_depth': 12}. Best is trial 10 with value: 0.8508024578891366.\u001b[0m\n"
     ]
    },
    {
     "name": "stdout",
     "output_type": "stream",
     "text": [
      "[5]\tvalidation-auc:0.83879[2]\tvalidation-auc:0.83956\n",
      "\n",
      "[3]\tvalidation-auc:0.84323\n"
     ]
    },
    {
     "name": "stderr",
     "output_type": "stream",
     "text": [
      "\u001b[32m[I 2022-04-06 10:48:17,602]\u001b[0m Trial 33 finished with value: 0.8435702240278241 and parameters: {'n_estimators': 1100, 'subsample': 0.4177404725199629, 'colsample_bytree': 0.7438582687109903, 'eta': 0.09079285225183009, 'max_depth': 12}. Best is trial 10 with value: 0.8508024578891366.\u001b[0m\n"
     ]
    },
    {
     "name": "stdout",
     "output_type": "stream",
     "text": [
      "[0]\tvalidation-auc:0.81637\n",
      "[4]\tvalidation-auc:0.84431[6]\tvalidation-auc:0.83976\n",
      "\n",
      "[3]\tvalidation-auc:0.84410[1]\tvalidation-auc:0.82798\n",
      "\n",
      "[7]\tvalidation-auc:0.84007\n"
     ]
    },
    {
     "name": "stderr",
     "output_type": "stream",
     "text": [
      "\u001b[32m[I 2022-04-06 10:48:17,830]\u001b[0m Trial 34 finished with value: 0.8466966137498688 and parameters: {'n_estimators': 900, 'subsample': 0.4105738422469438, 'colsample_bytree': 0.7714151388704195, 'eta': 0.0914003533299088, 'max_depth': 12}. Best is trial 10 with value: 0.8508024578891366.\u001b[0m\n"
     ]
    },
    {
     "name": "stdout",
     "output_type": "stream",
     "text": [
      "[5]\tvalidation-auc:0.84409[2]\tvalidation-auc:0.83112[4]\tvalidation-auc:0.84512\n",
      "\n",
      "\n"
     ]
    },
    {
     "name": "stderr",
     "output_type": "stream",
     "text": [
      "\u001b[32m[I 2022-04-06 10:48:17,924]\u001b[0m Trial 28 finished with value: 0.8433585731119377 and parameters: {'n_estimators': 1100, 'subsample': 0.4234935184941331, 'colsample_bytree': 0.7670475096016592, 'eta': 0.10078398553364068, 'max_depth': 12}. Best is trial 10 with value: 0.8508024578891366.\u001b[0m\n"
     ]
    },
    {
     "name": "stdout",
     "output_type": "stream",
     "text": [
      "[8]\tvalidation-auc:0.84115\n",
      "[5]\tvalidation-auc:0.84531[3]\tvalidation-auc:0.83560[9]\tvalidation-auc:0.84306\n",
      "\n",
      "\n",
      "[6]\tvalidation-auc:0.84444\n",
      "[6]\tvalidation-auc:0.84555\n",
      "[7]\tvalidation-auc:0.84440[4]\tvalidation-auc:0.83680\n",
      "\n",
      "[8]\tvalidation-auc:0.84461[7]\tvalidation-auc:0.84613\n",
      "\n",
      "[5]\tvalidation-auc:0.83802\n",
      "[9]\tvalidation-auc:0.84703\n",
      "[6]\tvalidation-auc:0.83942[8]\tvalidation-auc:0.84653\n",
      "\n"
     ]
    },
    {
     "name": "stderr",
     "output_type": "stream",
     "text": [
      "\u001b[32m[I 2022-04-06 10:48:18,549]\u001b[0m Trial 35 finished with value: 0.8430584926601766 and parameters: {'n_estimators': 1300, 'subsample': 0.4606355211342297, 'colsample_bytree': 0.6680407888258728, 'eta': 0.05454866756815149, 'max_depth': 12}. Best is trial 10 with value: 0.8508024578891366.\u001b[0m\n"
     ]
    },
    {
     "name": "stdout",
     "output_type": "stream",
     "text": [
      "[7]\tvalidation-auc:0.83867\n",
      "[9]\tvalidation-auc:0.84900\n"
     ]
    },
    {
     "name": "stderr",
     "output_type": "stream",
     "text": [
      "\u001b[32m[I 2022-04-06 10:48:18,766]\u001b[0m Trial 36 finished with value: 0.8470334900424028 and parameters: {'n_estimators': 1700, 'subsample': 0.8302264476990389, 'colsample_bytree': 0.670033214137584, 'eta': 0.05493933617750779, 'max_depth': 12}. Best is trial 10 with value: 0.8508024578891366.\u001b[0m\n"
     ]
    },
    {
     "name": "stdout",
     "output_type": "stream",
     "text": [
      "[8]\tvalidation-auc:0.84033\n"
     ]
    },
    {
     "name": "stderr",
     "output_type": "stream",
     "text": [
      "\u001b[32m[I 2022-04-06 10:48:19,206]\u001b[0m Trial 37 finished with value: 0.8489972772500156 and parameters: {'n_estimators': 1900, 'subsample': 0.8354382738268452, 'colsample_bytree': 0.6592674693503946, 'eta': 0.059916769474747236, 'max_depth': 12}. Best is trial 10 with value: 0.8508024578891366.\u001b[0m\n"
     ]
    },
    {
     "name": "stdout",
     "output_type": "stream",
     "text": [
      "[9]\tvalidation-auc:0.84213\n",
      "[0]\tvalidation-auc:0.82263\n",
      "[0]\tvalidation-auc:0.82009\n"
     ]
    },
    {
     "name": "stderr",
     "output_type": "stream",
     "text": [
      "\u001b[32m[I 2022-04-06 10:48:19,467]\u001b[0m Trial 38 finished with value: 0.8421278304661304 and parameters: {'n_estimators': 3300, 'subsample': 0.5302363070631553, 'colsample_bytree': 0.8833960960412797, 'eta': 0.06877457497546827, 'max_depth': 10}. Best is trial 10 with value: 0.8508024578891366.\u001b[0m\n"
     ]
    },
    {
     "name": "stdout",
     "output_type": "stream",
     "text": [
      "[0]\tvalidation-auc:0.82666\n",
      "[0]\tvalidation-auc:0.82846\n",
      "[0]\tvalidation-auc:0.82971\n",
      "[0]\tvalidation-auc:0.82728\n",
      "[0]\tvalidation-auc:0.83210\n",
      "[0]\tvalidation-auc:0.83088\n",
      "[0]\tvalidation-auc:0.82947\n",
      "[1]\tvalidation-auc:0.83123\n",
      "[0]\tvalidation-auc:0.81984\n",
      "[1]\tvalidation-auc:0.83029\n",
      "[0]\tvalidation-auc:0.82907\n",
      "[1]\tvalidation-auc:0.83507\n",
      "[1]\tvalidation-auc:0.83529\n",
      "[1]\tvalidation-auc:0.84013[1]\tvalidation-auc:0.83489\n",
      "[1]\tvalidation-auc:0.83667\n",
      "\n",
      "[2]\tvalidation-auc:0.83540\n",
      "[1]\tvalidation-auc:0.83689\n",
      "[1]\tvalidation-auc:0.83737\n",
      "[1]\tvalidation-auc:0.83275\n",
      "[2]\tvalidation-auc:0.83328\n",
      "[1]\tvalidation-auc:0.83595\n",
      "[3]\tvalidation-auc:0.83842\n",
      "[2]\tvalidation-auc:0.83847\n",
      "[2]\tvalidation-auc:0.83844\n",
      "[2]\tvalidation-auc:0.84045\n",
      "[2]\tvalidation-auc:0.83938\n",
      "[2]\tvalidation-auc:0.84111\n",
      "[2]\tvalidation-auc:0.83911\n",
      "[3]\tvalidation-auc:0.83492\n",
      "[2]\tvalidation-auc:0.83566[2]\tvalidation-auc:0.84122\n",
      "\n",
      "[4]\tvalidation-auc:0.83919\n",
      "[2]\tvalidation-auc:0.83986\n",
      "[3]\tvalidation-auc:0.84224[3]\tvalidation-auc:0.84142\n",
      "\n",
      "[3]\tvalidation-auc:0.84383\n",
      "[3]\tvalidation-auc:0.84167\n",
      "[4]\tvalidation-auc:0.83609\n",
      "[3]\tvalidation-auc:0.84448\n",
      "[3]\tvalidation-auc:0.84148\n",
      "[5]\tvalidation-auc:0.83952\n",
      "[3]\tvalidation-auc:0.83872\n",
      "[3]\tvalidation-auc:0.84566\n",
      "[3]\tvalidation-auc:0.84216\n",
      "[5]\tvalidation-auc:0.83733\n",
      "[4]\tvalidation-auc:0.84435\n",
      "[4]\tvalidation-auc:0.84293\n",
      "[4]\tvalidation-auc:0.84491\n",
      "[4]\tvalidation-auc:0.84327\n",
      "[4]\tvalidation-auc:0.84569\n",
      "[6]\tvalidation-auc:0.84081\n",
      "[4]\tvalidation-auc:0.84313\n",
      "[4]\tvalidation-auc:0.84708\n",
      "[6]\tvalidation-auc:0.83905\n",
      "[4]\tvalidation-auc:0.83966\n",
      "[4]\tvalidation-auc:0.84282\n",
      "[5]\tvalidation-auc:0.84317\n",
      "[5]\tvalidation-auc:0.84469\n",
      "[5]\tvalidation-auc:0.84631\n",
      "[7]\tvalidation-auc:0.84072\n",
      "[5]\tvalidation-auc:0.84411\n",
      "[5]\tvalidation-auc:0.84682\n",
      "[5]\tvalidation-auc:0.84299\n",
      "[7]\tvalidation-auc:0.83921\n",
      "[5]\tvalidation-auc:0.84006\n",
      "[5]\tvalidation-auc:0.84774\n",
      "[5]\tvalidation-auc:0.84303\n",
      "[8]\tvalidation-auc:0.84335\n",
      "[6]\tvalidation-auc:0.84467\n",
      "[6]\tvalidation-auc:0.84756\n",
      "[6]\tvalidation-auc:0.84638\n",
      "[8]\tvalidation-auc:0.84132\n",
      "[6]\tvalidation-auc:0.85017\n",
      "[6]\tvalidation-auc:0.84563\n",
      "[6]\tvalidation-auc:0.84495\n",
      "[9]\tvalidation-auc:0.84510\n",
      "[6]\tvalidation-auc:0.85132\n",
      "[6]\tvalidation-auc:0.84258\n",
      "[6]\tvalidation-auc:0.84427\n",
      "[7]\tvalidation-auc:0.84523\n",
      "[7]\tvalidation-auc:0.84751\n",
      "[9]\tvalidation-auc:0.84320\n",
      "[7]\tvalidation-auc:0.84691\n",
      "[7]\tvalidation-auc:0.85097\n",
      "[7]\tvalidation-auc:0.84632\n"
     ]
    },
    {
     "name": "stderr",
     "output_type": "stream",
     "text": [
      "\u001b[32m[I 2022-04-06 10:48:20,423]\u001b[0m Trial 40 finished with value: 0.8451191680102272 and parameters: {'n_estimators': 100, 'subsample': 0.5231749178712446, 'colsample_bytree': 0.8957580070021945, 'eta': 0.1700238701391981, 'max_depth': 10}. Best is trial 10 with value: 0.8508024578891366.\u001b[0m\n"
     ]
    },
    {
     "name": "stdout",
     "output_type": "stream",
     "text": [
      "[7]\tvalidation-auc:0.84517\n",
      "[7]\tvalidation-auc:0.84347\n",
      "[7]\tvalidation-auc:0.85167\n",
      "[7]\tvalidation-auc:0.84396\n"
     ]
    },
    {
     "name": "stderr",
     "output_type": "stream",
     "text": [
      "\u001b[32m[I 2022-04-06 10:48:20,474]\u001b[0m Trial 39 finished with value: 0.8432117389622428 and parameters: {'n_estimators': 1900, 'subsample': 0.5353312839299257, 'colsample_bytree': 0.8861861010213828, 'eta': 0.11281437923746679, 'max_depth': 10}. Best is trial 10 with value: 0.8508024578891366.\u001b[0m\n"
     ]
    },
    {
     "name": "stdout",
     "output_type": "stream",
     "text": [
      "[8]\tvalidation-auc:0.85008\n",
      "[8]\tvalidation-auc:0.84848\n",
      "[8]\tvalidation-auc:0.84936\n",
      "[8]\tvalidation-auc:0.84849\n",
      "[8]\tvalidation-auc:0.85385\n",
      "[8]\tvalidation-auc:0.85364\n",
      "[8]\tvalidation-auc:0.84523\n",
      "[8]\tvalidation-auc:0.84811\n",
      "[8]\tvalidation-auc:0.84607\n",
      "[9]\tvalidation-auc:0.85125\n",
      "[9]\tvalidation-auc:0.84967\n",
      "[9]\tvalidation-auc:0.85098\n",
      "[9]\tvalidation-auc:0.85550\n",
      "[9]\tvalidation-auc:0.85114\n",
      "[9]\tvalidation-auc:0.84664\n"
     ]
    },
    {
     "name": "stderr",
     "output_type": "stream",
     "text": [
      "\u001b[32m[I 2022-04-06 10:48:20,805]\u001b[0m Trial 46 finished with value: 0.8512553186712888 and parameters: {'n_estimators': 1700, 'subsample': 0.7843419438572682, 'colsample_bytree': 0.901492807006406, 'eta': 0.11199827028239734, 'max_depth': 13}. Best is trial 46 with value: 0.8512553186712888.\u001b[0m\n",
      "\u001b[32m[I 2022-04-06 10:48:20,810]\u001b[0m Trial 41 finished with value: 0.8496717601050442 and parameters: {'n_estimators': 1700, 'subsample': 0.8015246208710805, 'colsample_bytree': 0.9207810119969183, 'eta': 0.058176120154533655, 'max_depth': 13}. Best is trial 46 with value: 0.8512553186712888.\u001b[0m\n"
     ]
    },
    {
     "name": "stdout",
     "output_type": "stream",
     "text": [
      "[9]\tvalidation-auc:0.85511\n"
     ]
    },
    {
     "name": "stderr",
     "output_type": "stream",
     "text": [
      "\u001b[32m[I 2022-04-06 10:48:20,883]\u001b[0m Trial 42 finished with value: 0.8511651048566296 and parameters: {'n_estimators': 1900, 'subsample': 0.8275354597859066, 'colsample_bytree': 0.880364146118284, 'eta': 0.11357680629351938, 'max_depth': 13}. Best is trial 46 with value: 0.8512553186712888.\u001b[0m\n",
      "\u001b[32m[I 2022-04-06 10:48:20,886]\u001b[0m Trial 43 finished with value: 0.8555321606167214 and parameters: {'n_estimators': 1700, 'subsample': 0.8404919338223733, 'colsample_bytree': 0.8950856811763128, 'eta': 0.16922618106660464, 'max_depth': 13}. Best is trial 43 with value: 0.8555321606167214.\u001b[0m\n"
     ]
    },
    {
     "name": "stdout",
     "output_type": "stream",
     "text": [
      "[9]\tvalidation-auc:0.85023\n"
     ]
    },
    {
     "name": "stderr",
     "output_type": "stream",
     "text": [
      "\u001b[32m[I 2022-04-06 10:48:20,903]\u001b[0m Trial 44 finished with value: 0.8509803444337374 and parameters: {'n_estimators': 1900, 'subsample': 0.8273762043974, 'colsample_bytree': 0.9002465716165363, 'eta': 0.1701408273745544, 'max_depth': 13}. Best is trial 43 with value: 0.8555321606167214.\u001b[0m\n"
     ]
    },
    {
     "name": "stdout",
     "output_type": "stream",
     "text": [
      "[9]\tvalidation-auc:0.84758\n"
     ]
    },
    {
     "name": "stderr",
     "output_type": "stream",
     "text": [
      "\u001b[32m[I 2022-04-06 10:48:20,950]\u001b[0m Trial 48 finished with value: 0.8466368685387229 and parameters: {'n_estimators': 1700, 'subsample': 0.5302772817521898, 'colsample_bytree': 0.8645645270302187, 'eta': 0.05780143113555049, 'max_depth': 13}. Best is trial 43 with value: 0.8555321606167214.\u001b[0m\n",
      "\u001b[32m[I 2022-04-06 10:48:20,984]\u001b[0m Trial 47 finished with value: 0.8551316032976147 and parameters: {'n_estimators': 1700, 'subsample': 0.8175964392165642, 'colsample_bytree': 0.9067815785611153, 'eta': 0.16788038042248887, 'max_depth': 13}. Best is trial 43 with value: 0.8555321606167214.\u001b[0m\n",
      "\u001b[32m[I 2022-04-06 10:48:21,061]\u001b[0m Trial 45 finished with value: 0.8502277502903434 and parameters: {'n_estimators': 1700, 'subsample': 0.853897064411948, 'colsample_bytree': 0.8874148364013575, 'eta': 0.05510510791469452, 'max_depth': 13}. Best is trial 43 with value: 0.8555321606167214.\u001b[0m\n",
      "\u001b[32m[I 2022-04-06 10:48:21,066]\u001b[0m Trial 49 finished with value: 0.8475871429392527 and parameters: {'n_estimators': 1700, 'subsample': 0.8323404410480739, 'colsample_bytree': 0.8933708391018317, 'eta': 0.05731814232771133, 'max_depth': 13}. Best is trial 43 with value: 0.8555321606167214.\u001b[0m\n"
     ]
    },
    {
     "name": "stdout",
     "output_type": "stream",
     "text": [
      "FrozenTrial(number=43, values=[0.8555321606167214], datetime_start=datetime.datetime(2022, 4, 6, 10, 48, 16, 704308), datetime_complete=datetime.datetime(2022, 4, 6, 10, 48, 20, 885243), params={'n_estimators': 1700, 'subsample': 0.8404919338223733, 'colsample_bytree': 0.8950856811763128, 'eta': 0.16922618106660464, 'max_depth': 13}, distributions={'n_estimators': IntUniformDistribution(high=4900, low=100, step=200), 'subsample': UniformDistribution(high=1.0, low=0.1), 'colsample_bytree': UniformDistribution(high=1.0, low=0.1), 'eta': UniformDistribution(high=0.2, low=0.01), 'max_depth': IntUniformDistribution(high=13, low=3, step=1)}, user_attrs={}, system_attrs={}, intermediate_values={}, trial_id=43, state=TrialState.COMPLETE, value=None)\n"
     ]
    }
   ],
   "source": [
    "# Estudo de otimização com o optuna\n",
    "# Modelos de classificação do sklearn\n",
    "#sampler = optuna.samplers.CmaEsSampler()\n",
    "study_xgb = optuna.create_study(direction=\"maximize\")#, sampler=sampler)\n",
    "study_xgb.optimize(objective,n_jobs=-1,n_trials=50)\n",
    "print(study_xgb.best_trial)"
   ]
  },
  {
   "cell_type": "code",
   "execution_count": 31,
   "metadata": {},
   "outputs": [
    {
     "data": {
      "application/vnd.plotly.v1+json": {
       "config": {
        "plotlyServerURL": "https://plot.ly"
       },
       "data": [
        {
         "mode": "markers",
         "name": "Objective Value",
         "type": "scatter",
         "x": [
          0,
          1,
          2,
          3,
          4,
          5,
          6,
          7,
          8,
          9,
          10,
          11,
          12,
          13,
          14,
          15,
          16,
          17,
          18,
          19,
          20,
          21,
          22,
          23,
          24,
          25,
          26,
          27,
          28,
          29,
          30,
          31,
          32,
          33,
          34,
          35,
          36,
          37,
          38,
          39,
          40,
          41,
          42,
          43,
          44,
          45,
          46,
          47,
          48,
          49
         ],
         "y": [
          0.7959950742866585,
          0.8150590794235983,
          0.8304123663575456,
          0.7897234075988516,
          0.8327995371277263,
          0.8421685016203131,
          0.8395749372410984,
          0.7951902361207974,
          0.8163505926305252,
          0.8196489152864025,
          0.8508024578891366,
          0.8276197790009917,
          0.8264936899845864,
          0.8279406689623113,
          0.819970684119128,
          0.846488237372977,
          0.7971172051974205,
          0.8234536621154467,
          0.7944951475524785,
          0.846661635092486,
          0.8438538585453288,
          0.8446287046937412,
          0.84479749682988,
          0.8411413578149262,
          0.8451442848388261,
          0.8453409737120329,
          0.8443918562798998,
          0.8472850998869726,
          0.8433585731119377,
          0.8448822399884686,
          0.8450871719961426,
          0.8443536943672675,
          0.8427573231721079,
          0.8435702240278241,
          0.8466966137498688,
          0.8430584926601766,
          0.8470334900424028,
          0.8489972772500156,
          0.8421278304661304,
          0.8432117389622428,
          0.8451191680102272,
          0.8496717601050442,
          0.8511651048566296,
          0.8555321606167214,
          0.8509803444337374,
          0.8502277502903434,
          0.8512553186712888,
          0.8551316032976147,
          0.8466368685387229,
          0.8475871429392527
         ]
        },
        {
         "name": "Best Value",
         "type": "scatter",
         "x": [
          0,
          1,
          2,
          3,
          4,
          5,
          6,
          7,
          8,
          9,
          10,
          11,
          12,
          13,
          14,
          15,
          16,
          17,
          18,
          19,
          20,
          21,
          22,
          23,
          24,
          25,
          26,
          27,
          28,
          29,
          30,
          31,
          32,
          33,
          34,
          35,
          36,
          37,
          38,
          39,
          40,
          41,
          42,
          43,
          44,
          45,
          46,
          47,
          48,
          49
         ],
         "y": [
          0.7959950742866585,
          0.8150590794235983,
          0.8304123663575456,
          0.8304123663575456,
          0.8327995371277263,
          0.8421685016203131,
          0.8421685016203131,
          0.8421685016203131,
          0.8421685016203131,
          0.8421685016203131,
          0.8508024578891366,
          0.8508024578891366,
          0.8508024578891366,
          0.8508024578891366,
          0.8508024578891366,
          0.8508024578891366,
          0.8508024578891366,
          0.8508024578891366,
          0.8508024578891366,
          0.8508024578891366,
          0.8508024578891366,
          0.8508024578891366,
          0.8508024578891366,
          0.8508024578891366,
          0.8508024578891366,
          0.8508024578891366,
          0.8508024578891366,
          0.8508024578891366,
          0.8508024578891366,
          0.8508024578891366,
          0.8508024578891366,
          0.8508024578891366,
          0.8508024578891366,
          0.8508024578891366,
          0.8508024578891366,
          0.8508024578891366,
          0.8508024578891366,
          0.8508024578891366,
          0.8508024578891366,
          0.8508024578891366,
          0.8508024578891366,
          0.8508024578891366,
          0.8511651048566296,
          0.8555321606167214,
          0.8555321606167214,
          0.8555321606167214,
          0.8555321606167214,
          0.8555321606167214,
          0.8555321606167214,
          0.8555321606167214
         ]
        }
       ],
       "layout": {
        "template": {
         "data": {
          "bar": [
           {
            "error_x": {
             "color": "#2a3f5f"
            },
            "error_y": {
             "color": "#2a3f5f"
            },
            "marker": {
             "line": {
              "color": "#E5ECF6",
              "width": 0.5
             },
             "pattern": {
              "fillmode": "overlay",
              "size": 10,
              "solidity": 0.2
             }
            },
            "type": "bar"
           }
          ],
          "barpolar": [
           {
            "marker": {
             "line": {
              "color": "#E5ECF6",
              "width": 0.5
             },
             "pattern": {
              "fillmode": "overlay",
              "size": 10,
              "solidity": 0.2
             }
            },
            "type": "barpolar"
           }
          ],
          "carpet": [
           {
            "aaxis": {
             "endlinecolor": "#2a3f5f",
             "gridcolor": "white",
             "linecolor": "white",
             "minorgridcolor": "white",
             "startlinecolor": "#2a3f5f"
            },
            "baxis": {
             "endlinecolor": "#2a3f5f",
             "gridcolor": "white",
             "linecolor": "white",
             "minorgridcolor": "white",
             "startlinecolor": "#2a3f5f"
            },
            "type": "carpet"
           }
          ],
          "choropleth": [
           {
            "colorbar": {
             "outlinewidth": 0,
             "ticks": ""
            },
            "type": "choropleth"
           }
          ],
          "contour": [
           {
            "colorbar": {
             "outlinewidth": 0,
             "ticks": ""
            },
            "colorscale": [
             [
              0,
              "#0d0887"
             ],
             [
              0.1111111111111111,
              "#46039f"
             ],
             [
              0.2222222222222222,
              "#7201a8"
             ],
             [
              0.3333333333333333,
              "#9c179e"
             ],
             [
              0.4444444444444444,
              "#bd3786"
             ],
             [
              0.5555555555555556,
              "#d8576b"
             ],
             [
              0.6666666666666666,
              "#ed7953"
             ],
             [
              0.7777777777777778,
              "#fb9f3a"
             ],
             [
              0.8888888888888888,
              "#fdca26"
             ],
             [
              1,
              "#f0f921"
             ]
            ],
            "type": "contour"
           }
          ],
          "contourcarpet": [
           {
            "colorbar": {
             "outlinewidth": 0,
             "ticks": ""
            },
            "type": "contourcarpet"
           }
          ],
          "heatmap": [
           {
            "colorbar": {
             "outlinewidth": 0,
             "ticks": ""
            },
            "colorscale": [
             [
              0,
              "#0d0887"
             ],
             [
              0.1111111111111111,
              "#46039f"
             ],
             [
              0.2222222222222222,
              "#7201a8"
             ],
             [
              0.3333333333333333,
              "#9c179e"
             ],
             [
              0.4444444444444444,
              "#bd3786"
             ],
             [
              0.5555555555555556,
              "#d8576b"
             ],
             [
              0.6666666666666666,
              "#ed7953"
             ],
             [
              0.7777777777777778,
              "#fb9f3a"
             ],
             [
              0.8888888888888888,
              "#fdca26"
             ],
             [
              1,
              "#f0f921"
             ]
            ],
            "type": "heatmap"
           }
          ],
          "heatmapgl": [
           {
            "colorbar": {
             "outlinewidth": 0,
             "ticks": ""
            },
            "colorscale": [
             [
              0,
              "#0d0887"
             ],
             [
              0.1111111111111111,
              "#46039f"
             ],
             [
              0.2222222222222222,
              "#7201a8"
             ],
             [
              0.3333333333333333,
              "#9c179e"
             ],
             [
              0.4444444444444444,
              "#bd3786"
             ],
             [
              0.5555555555555556,
              "#d8576b"
             ],
             [
              0.6666666666666666,
              "#ed7953"
             ],
             [
              0.7777777777777778,
              "#fb9f3a"
             ],
             [
              0.8888888888888888,
              "#fdca26"
             ],
             [
              1,
              "#f0f921"
             ]
            ],
            "type": "heatmapgl"
           }
          ],
          "histogram": [
           {
            "marker": {
             "pattern": {
              "fillmode": "overlay",
              "size": 10,
              "solidity": 0.2
             }
            },
            "type": "histogram"
           }
          ],
          "histogram2d": [
           {
            "colorbar": {
             "outlinewidth": 0,
             "ticks": ""
            },
            "colorscale": [
             [
              0,
              "#0d0887"
             ],
             [
              0.1111111111111111,
              "#46039f"
             ],
             [
              0.2222222222222222,
              "#7201a8"
             ],
             [
              0.3333333333333333,
              "#9c179e"
             ],
             [
              0.4444444444444444,
              "#bd3786"
             ],
             [
              0.5555555555555556,
              "#d8576b"
             ],
             [
              0.6666666666666666,
              "#ed7953"
             ],
             [
              0.7777777777777778,
              "#fb9f3a"
             ],
             [
              0.8888888888888888,
              "#fdca26"
             ],
             [
              1,
              "#f0f921"
             ]
            ],
            "type": "histogram2d"
           }
          ],
          "histogram2dcontour": [
           {
            "colorbar": {
             "outlinewidth": 0,
             "ticks": ""
            },
            "colorscale": [
             [
              0,
              "#0d0887"
             ],
             [
              0.1111111111111111,
              "#46039f"
             ],
             [
              0.2222222222222222,
              "#7201a8"
             ],
             [
              0.3333333333333333,
              "#9c179e"
             ],
             [
              0.4444444444444444,
              "#bd3786"
             ],
             [
              0.5555555555555556,
              "#d8576b"
             ],
             [
              0.6666666666666666,
              "#ed7953"
             ],
             [
              0.7777777777777778,
              "#fb9f3a"
             ],
             [
              0.8888888888888888,
              "#fdca26"
             ],
             [
              1,
              "#f0f921"
             ]
            ],
            "type": "histogram2dcontour"
           }
          ],
          "mesh3d": [
           {
            "colorbar": {
             "outlinewidth": 0,
             "ticks": ""
            },
            "type": "mesh3d"
           }
          ],
          "parcoords": [
           {
            "line": {
             "colorbar": {
              "outlinewidth": 0,
              "ticks": ""
             }
            },
            "type": "parcoords"
           }
          ],
          "pie": [
           {
            "automargin": true,
            "type": "pie"
           }
          ],
          "scatter": [
           {
            "marker": {
             "colorbar": {
              "outlinewidth": 0,
              "ticks": ""
             }
            },
            "type": "scatter"
           }
          ],
          "scatter3d": [
           {
            "line": {
             "colorbar": {
              "outlinewidth": 0,
              "ticks": ""
             }
            },
            "marker": {
             "colorbar": {
              "outlinewidth": 0,
              "ticks": ""
             }
            },
            "type": "scatter3d"
           }
          ],
          "scattercarpet": [
           {
            "marker": {
             "colorbar": {
              "outlinewidth": 0,
              "ticks": ""
             }
            },
            "type": "scattercarpet"
           }
          ],
          "scattergeo": [
           {
            "marker": {
             "colorbar": {
              "outlinewidth": 0,
              "ticks": ""
             }
            },
            "type": "scattergeo"
           }
          ],
          "scattergl": [
           {
            "marker": {
             "colorbar": {
              "outlinewidth": 0,
              "ticks": ""
             }
            },
            "type": "scattergl"
           }
          ],
          "scattermapbox": [
           {
            "marker": {
             "colorbar": {
              "outlinewidth": 0,
              "ticks": ""
             }
            },
            "type": "scattermapbox"
           }
          ],
          "scatterpolar": [
           {
            "marker": {
             "colorbar": {
              "outlinewidth": 0,
              "ticks": ""
             }
            },
            "type": "scatterpolar"
           }
          ],
          "scatterpolargl": [
           {
            "marker": {
             "colorbar": {
              "outlinewidth": 0,
              "ticks": ""
             }
            },
            "type": "scatterpolargl"
           }
          ],
          "scatterternary": [
           {
            "marker": {
             "colorbar": {
              "outlinewidth": 0,
              "ticks": ""
             }
            },
            "type": "scatterternary"
           }
          ],
          "surface": [
           {
            "colorbar": {
             "outlinewidth": 0,
             "ticks": ""
            },
            "colorscale": [
             [
              0,
              "#0d0887"
             ],
             [
              0.1111111111111111,
              "#46039f"
             ],
             [
              0.2222222222222222,
              "#7201a8"
             ],
             [
              0.3333333333333333,
              "#9c179e"
             ],
             [
              0.4444444444444444,
              "#bd3786"
             ],
             [
              0.5555555555555556,
              "#d8576b"
             ],
             [
              0.6666666666666666,
              "#ed7953"
             ],
             [
              0.7777777777777778,
              "#fb9f3a"
             ],
             [
              0.8888888888888888,
              "#fdca26"
             ],
             [
              1,
              "#f0f921"
             ]
            ],
            "type": "surface"
           }
          ],
          "table": [
           {
            "cells": {
             "fill": {
              "color": "#EBF0F8"
             },
             "line": {
              "color": "white"
             }
            },
            "header": {
             "fill": {
              "color": "#C8D4E3"
             },
             "line": {
              "color": "white"
             }
            },
            "type": "table"
           }
          ]
         },
         "layout": {
          "annotationdefaults": {
           "arrowcolor": "#2a3f5f",
           "arrowhead": 0,
           "arrowwidth": 1
          },
          "autotypenumbers": "strict",
          "coloraxis": {
           "colorbar": {
            "outlinewidth": 0,
            "ticks": ""
           }
          },
          "colorscale": {
           "diverging": [
            [
             0,
             "#8e0152"
            ],
            [
             0.1,
             "#c51b7d"
            ],
            [
             0.2,
             "#de77ae"
            ],
            [
             0.3,
             "#f1b6da"
            ],
            [
             0.4,
             "#fde0ef"
            ],
            [
             0.5,
             "#f7f7f7"
            ],
            [
             0.6,
             "#e6f5d0"
            ],
            [
             0.7,
             "#b8e186"
            ],
            [
             0.8,
             "#7fbc41"
            ],
            [
             0.9,
             "#4d9221"
            ],
            [
             1,
             "#276419"
            ]
           ],
           "sequential": [
            [
             0,
             "#0d0887"
            ],
            [
             0.1111111111111111,
             "#46039f"
            ],
            [
             0.2222222222222222,
             "#7201a8"
            ],
            [
             0.3333333333333333,
             "#9c179e"
            ],
            [
             0.4444444444444444,
             "#bd3786"
            ],
            [
             0.5555555555555556,
             "#d8576b"
            ],
            [
             0.6666666666666666,
             "#ed7953"
            ],
            [
             0.7777777777777778,
             "#fb9f3a"
            ],
            [
             0.8888888888888888,
             "#fdca26"
            ],
            [
             1,
             "#f0f921"
            ]
           ],
           "sequentialminus": [
            [
             0,
             "#0d0887"
            ],
            [
             0.1111111111111111,
             "#46039f"
            ],
            [
             0.2222222222222222,
             "#7201a8"
            ],
            [
             0.3333333333333333,
             "#9c179e"
            ],
            [
             0.4444444444444444,
             "#bd3786"
            ],
            [
             0.5555555555555556,
             "#d8576b"
            ],
            [
             0.6666666666666666,
             "#ed7953"
            ],
            [
             0.7777777777777778,
             "#fb9f3a"
            ],
            [
             0.8888888888888888,
             "#fdca26"
            ],
            [
             1,
             "#f0f921"
            ]
           ]
          },
          "colorway": [
           "#636efa",
           "#EF553B",
           "#00cc96",
           "#ab63fa",
           "#FFA15A",
           "#19d3f3",
           "#FF6692",
           "#B6E880",
           "#FF97FF",
           "#FECB52"
          ],
          "font": {
           "color": "#2a3f5f"
          },
          "geo": {
           "bgcolor": "white",
           "lakecolor": "white",
           "landcolor": "#E5ECF6",
           "showlakes": true,
           "showland": true,
           "subunitcolor": "white"
          },
          "hoverlabel": {
           "align": "left"
          },
          "hovermode": "closest",
          "mapbox": {
           "style": "light"
          },
          "paper_bgcolor": "white",
          "plot_bgcolor": "#E5ECF6",
          "polar": {
           "angularaxis": {
            "gridcolor": "white",
            "linecolor": "white",
            "ticks": ""
           },
           "bgcolor": "#E5ECF6",
           "radialaxis": {
            "gridcolor": "white",
            "linecolor": "white",
            "ticks": ""
           }
          },
          "scene": {
           "xaxis": {
            "backgroundcolor": "#E5ECF6",
            "gridcolor": "white",
            "gridwidth": 2,
            "linecolor": "white",
            "showbackground": true,
            "ticks": "",
            "zerolinecolor": "white"
           },
           "yaxis": {
            "backgroundcolor": "#E5ECF6",
            "gridcolor": "white",
            "gridwidth": 2,
            "linecolor": "white",
            "showbackground": true,
            "ticks": "",
            "zerolinecolor": "white"
           },
           "zaxis": {
            "backgroundcolor": "#E5ECF6",
            "gridcolor": "white",
            "gridwidth": 2,
            "linecolor": "white",
            "showbackground": true,
            "ticks": "",
            "zerolinecolor": "white"
           }
          },
          "shapedefaults": {
           "line": {
            "color": "#2a3f5f"
           }
          },
          "ternary": {
           "aaxis": {
            "gridcolor": "white",
            "linecolor": "white",
            "ticks": ""
           },
           "baxis": {
            "gridcolor": "white",
            "linecolor": "white",
            "ticks": ""
           },
           "bgcolor": "#E5ECF6",
           "caxis": {
            "gridcolor": "white",
            "linecolor": "white",
            "ticks": ""
           }
          },
          "title": {
           "x": 0.05
          },
          "xaxis": {
           "automargin": true,
           "gridcolor": "white",
           "linecolor": "white",
           "ticks": "",
           "title": {
            "standoff": 15
           },
           "zerolinecolor": "white",
           "zerolinewidth": 2
          },
          "yaxis": {
           "automargin": true,
           "gridcolor": "white",
           "linecolor": "white",
           "ticks": "",
           "title": {
            "standoff": 15
           },
           "zerolinecolor": "white",
           "zerolinewidth": 2
          }
         }
        },
        "title": {
         "text": "Optimization History Plot"
        },
        "xaxis": {
         "title": {
          "text": "#Trials"
         }
        },
        "yaxis": {
         "title": {
          "text": "Objective Value"
         }
        }
       }
      }
     },
     "metadata": {},
     "output_type": "display_data"
    }
   ],
   "source": [
    "fig = optuna.visualization.plot_optimization_history(study_xgb)\n",
    "fig.show()"
   ]
  },
  {
   "cell_type": "markdown",
   "metadata": {},
   "source": [
    "Podemos observar na curva acima que o pacote optuna convergiu para otimizar os hiperparâmetros do XGBoost a partir da 44ª iteração."
   ]
  },
  {
   "cell_type": "code",
   "execution_count": 32,
   "metadata": {},
   "outputs": [
    {
     "data": {
      "text/plain": [
       "{'n_estimators': 1700,\n",
       " 'subsample': 0.8404919338223733,\n",
       " 'colsample_bytree': 0.8950856811763128,\n",
       " 'eta': 0.16922618106660464,\n",
       " 'max_depth': 13}"
      ]
     },
     "execution_count": 32,
     "metadata": {},
     "output_type": "execute_result"
    }
   ],
   "source": [
    "study_xgb.best_params"
   ]
  },
  {
   "cell_type": "markdown",
   "metadata": {},
   "source": [
    "## 4.3 Avaliando o melhor modelo XGBoost"
   ]
  },
  {
   "cell_type": "code",
   "execution_count": 33,
   "metadata": {},
   "outputs": [
    {
     "name": "stdout",
     "output_type": "stream",
     "text": [
      "[0]\tvalidation_0-auc:0.81658\n",
      "[50]\tvalidation_0-auc:0.87774\n",
      "[100]\tvalidation_0-auc:0.88159\n",
      "[150]\tvalidation_0-auc:0.88167\n",
      "[200]\tvalidation_0-auc:0.88036\n",
      "[228]\tvalidation_0-auc:0.87899\n"
     ]
    }
   ],
   "source": [
    "# Rodando o modelo com o melhor parametro\n",
    "clf = xgb.XGBClassifier(**study_xgb.best_params,\n",
    "                        objective=\"binary:logistic\",\n",
    "                        eval_metric=\"auc\",\n",
    "                        missing=-1,\n",
    "                        tree_method=\"hist\")\n",
    "resampler = RandomUnderSampler()\n",
    "X_resampled, y_resampled = resampler.fit_resample(X_train,y_train)\n",
    "h = clf.fit(X_train, y_train, \n",
    "        eval_set=[(X_val,y_val)], # observar que 'cols' = seleciona as colunas\n",
    "        verbose=50, early_stopping_rounds=100)"
   ]
  },
  {
   "cell_type": "code",
   "execution_count": 34,
   "metadata": {},
   "outputs": [
    {
     "data": {
      "image/png": "[encoded data removed]",
      "text/plain": [
       "<Figure size 432x288 with 1 Axes>"
      ]
     },
     "metadata": {},
     "output_type": "display_data"
    }
   ],
   "source": [
    "# Plotando a curva ROC-AUC\n",
    "y_proba = h.predict_proba(X_val)\n",
    "y_pred = h.predict(X_val)\n",
    "# take the second column because the classifier outputs scores for\n",
    "preds = y_proba[:,1]\n",
    "\n",
    "# fpr means false-positive-rate\n",
    "# tpr means true-positive-rate\n",
    "from sklearn.metrics import roc_curve, auc,confusion_matrix,ConfusionMatrixDisplay\n",
    "# Compute ROC curve and ROC area for each class\n",
    "fpr, tpr, _ = roc_curve(y_val, preds)\n",
    "\n",
    "auc_score = auc(fpr, tpr)\n",
    "\n",
    "plt.title('Curva ROC-AUC')\n",
    "plt.plot(fpr, tpr, label=f'AUC = {auc_score:.3f}')\n",
    "\n",
    "# it's helpful to add a diagonal to indicate where chance \n",
    "# scores lie (i.e. just flipping a coin)\n",
    "plt.plot([0,1],[0,1],'r--')\n",
    "\n",
    "plt.xlim([-0.1,1.1])\n",
    "plt.ylim([-0.1,1.1])\n",
    "plt.ylabel('True Positive Rate')\n",
    "plt.xlabel('False Positive Rate')\n",
    "\n",
    "plt.legend(loc='lower right')\n",
    "plt.show()"
   ]
  },
  {
   "cell_type": "code",
   "execution_count": 35,
   "metadata": {},
   "outputs": [
    {
     "data": {
      "text/plain": [
       "<sklearn.metrics._plot.confusion_matrix.ConfusionMatrixDisplay at 0x2258bebd5b0>"
      ]
     },
     "execution_count": 35,
     "metadata": {},
     "output_type": "execute_result"
    },
    {
     "data": {
      "image/png": "[encoded data removed]",
      "text/plain": [
       "<Figure size 432x288 with 2 Axes>"
      ]
     },
     "metadata": {},
     "output_type": "display_data"
    }
   ],
   "source": [
    "# Plotando a matriz de confusão\n",
    "# Avaliar a precisão do classificador\n",
    "confusion_matrix(y_val, y_pred)\n",
    "cm = confusion_matrix(y_val, y_pred, labels=clf.classes_)\n",
    "disp = ConfusionMatrixDisplay(confusion_matrix=cm,\n",
    "                            display_labels=clf.classes_)\n",
    "disp.plot()"
   ]
  },
  {
   "cell_type": "markdown",
   "metadata": {},
   "source": [
    "# Conclusão do projeto\n",
    "\n",
    "A meta desse projeto é desenvolver um modelo de predição de fraude para um dado conjunto de dados, sendo assim um problema de classificação de fraude. Esse problema em geral apresenta um conjunto de dados desbalanceamento.\n",
    "\n",
    "O projeto iniciou com um conjunto de 434 variáveis e um conjunto de dados que necessitavam de tratamento especialmente em relação aos dados faltantes (missing).\n",
    "\n",
    "Optamos por usar uma composição de tecnicas de seleção de variáveis para reduzi o número de variáveis, reduzindo o esforço computacional de treinamento dos modelos e ainda obter uma boa precisão do modelo. A partir das opções restritivas que fizemos no processo de seleção de variáveis chegamos a uma seleção de 60 variáveis, ou seja, uma redução ~86% do número de variáveis.\n",
    "\n",
    "Posteriormente avaliamos o desempenho dos modelos de Regressão Logística, Random Forest, XGBoost e Isolation Forest em sua configuração padrão. Posteriomente avaliamos o efeito do desbalanceamento dos dados no desempenho dos modelos assim como das metodologias para sanar o problema.\n",
    "\n",
    "Realizamos a modelagem de uma rede neural MLP para o nosso problema de classificação, porém este modelo foi muito instável em seu desempenho depois de diversas tentativas e devido ao seu custo computacional, não realizamos otimização dos hiperparâmetros.\n",
    "\n",
    "O modelo que apresentou o melhor desempenho para o conjunto de dados de treino proposto foi o XGBoost com resultado inicial de AUC de 0,613, com a base de dados reamostradas com o RandomUnderSampler foi para 0,777 e finalmente com a otimização dos hiperparâmetros foi para 0,855.\n",
    "\n",
    "Apesar de ter evoluido bem o desempenho do modelo XGBoost não vai ser capaz de distuingir fraudes dos não fraudes com um bom desempenho conseguindo apenas distinguir com boa precisão as transações que não são fraudes.\n",
    "\n",
    "Devido ao fato de termos sidos mais restritivos na seleção de variáveis isso pode ter restringido de forma geral o desempenho de todos os modelos e especial para o XGBoost. Isso pois o modelo XGBoost foi o modelo vencedor desse desafio e os campeões do desafio utilizaram 216 variáveis para treinar o modelo. Essa escolha foi feita devido as limitações de tempo e de recurso computacional para poder treinar os modelos e otimizar os hiperparâmetros."
   ]
  },
  {
   "cell_type": "markdown",
   "metadata": {},
   "source": [
    "# fim"
   ]
  }
 ],
 "metadata": {
  "interpreter": {
   "hash": "c94be41889154d41bf43aca8d1a8d1cd64b97c119170e03e2ed46ca87183f0c5"
  },
  "kernelspec": {
   "display_name": "Python 3.8.12 ('base')",
   "language": "python",
   "name": "python3"
  },
  "language_info": {
   "codemirror_mode": {
    "name": "ipython",
    "version": 3
   },
   "file_extension": ".py",
   "mimetype": "text/x-python",
   "name": "python",
   "nbconvert_exporter": "python",
   "pygments_lexer": "ipython3",
   "version": "3.8.12"
  },
  "orig_nbformat": 4
 },
 "nbformat": 4,
 "nbformat_minor": 2
}
