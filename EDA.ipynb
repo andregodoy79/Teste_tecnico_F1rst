{
 "cells": [
  {
   "cell_type": "markdown",
   "metadata": {},
   "source": [
    "# 1 Análise Exploratória de Dados - EDA\n",
    "\n",
    "Neste notebook, vamos fazer algumas análises exploratórias de dados. \n",
    "\n",
    "Vamos fundamentalmente carregar os dados realizar os tratamentos mínimos necessários para obter uma base de dados para nossa modelagem.\n",
    "\n",
    "O foco vai ser no tratamento de dados, não na análise de dados, e assim vamos remover os dados nulos e através de algumas ferramentas estatísticas, vamos selecionar as variáveis mais relevantes para nossa modelagem."
   ]
  },
  {
   "cell_type": "markdown",
   "metadata": {},
   "source": [
    "## 1.0 Preparando o ambiente\n",
    "\n",
    "Carregando as bibliotecas necessárias para o EDA."
   ]
  },
  {
   "cell_type": "code",
   "execution_count": 1,
   "metadata": {},
   "outputs": [],
   "source": [
    "import pickle\n",
    "import gc\n",
    "import numpy as np\n",
    "import pandas as pd\n",
    "import matplotlib.pyplot as plt\n",
    "\n",
    "from sklearn.feature_selection import f_classif\n",
    "from sklearn.feature_selection import mutual_info_classif\n",
    "from sklearn.feature_selection import chi2\n",
    "from sklearn.feature_selection import SelectKBest\n",
    "\n",
    "#Ignorar warning\n",
    "import warnings\n",
    "warnings.filterwarnings(\"ignore\")"
   ]
  },
  {
   "cell_type": "markdown",
   "metadata": {},
   "source": [
    "## 1.1 Levantamento das informações sobre as variáveis\n",
    "\n",
    "Segue a relação das variaveis e suas descrições, de acordo com o empresa Vesta responsável pelos dados:\n",
    "\n",
    "* Indentity table (Tabela de identidade do usuário):\n",
    "    * Variables in this table are identity information – network connection information (IP, ISP, Proxy, etc) and digital signature (UA/browser/os/version, etc) associated with transactions. They're collected by Vesta’s fraud protection system and digital security partners. (The field names are masked and pairwise dictionary will not be provided for privacy protection and contract agreement)\n",
    "\n",
    "    * Categorical Features:\n",
    "        * DeviceType\n",
    "        * DeviceInfo\n",
    "        * id_12 - id_38\n",
    "\n",
    "* Transaction table (Tabela de transações):\n",
    "    * TransactionID: identificação da transação.\n",
    "    * isFraud: identifica se a transação é fraudulenta ou não.(0 ou 1) Apenas no conjunto de treinamento.\n",
    "    * TransactionDT: data e hora da transação em um referência desconhecida.\n",
    "    * TransactionAmt: valor de transação de saque.\n",
    "    * ProductCD: produto da transação. (contem o código do produto, são apenas 5 categorias)\n",
    "    * card1 - card6: informação do cartão de pagamento, como tipo do cartão, categoria do cartão, banco emitente, pais, etc.\n",
    "    * addr1, addr2: informação de endereço\n",
    "    * dist1, dist2,: distância\n",
    "    * id12 to id13 variáveis numéricas para identificar a transação.\n",
    "    * P_ and (R__) emaildomain: purchaser and recipient email domain\n",
    "    * D1-D15: timedelta, such as days between previous transaction, etc.\n",
    "    * M1-M9: match, such as names on card and address, etc.\n",
    "    * V1 to V340 são variáveis numéricas criadas pela Vesta.\n",
    "    * Variáveis categoricas:\n",
    "        * ProductCD\n",
    "        * card1 - card6\n",
    "        * addr1, addr2\n",
    "        * P_emaildomain\n",
    "        * R_emaildomain \n",
    "        * M1 - M9    \n"
   ]
  },
  {
   "cell_type": "code",
   "execution_count": 2,
   "metadata": {},
   "outputs": [],
   "source": [
    "df_train_id = pd.read_csv('./ieee-fraud-detection/train_identity.csv')\n",
    "df_train_transaction = pd.read_csv('./ieee-fraud-detection/train_transaction.csv')\n",
    "df_test_id = pd.read_csv('./ieee-fraud-detection/test_identity.csv')\n",
    "df_test_transaction = pd.read_csv('./ieee-fraud-detection/test_transaction.csv')"
   ]
  },
  {
   "cell_type": "code",
   "execution_count": 3,
   "metadata": {},
   "outputs": [
    {
     "name": "stdout",
     "output_type": "stream",
     "text": [
      "Train shape (590540, 434) test shape (506691, 434)\n"
     ]
    }
   ],
   "source": [
    "# Agrupando os dado de train_transaction e train_identity\n",
    "# Dataframe de treino\n",
    "X_train = df_train_transaction.merge(df_train_id, how='left', left_index=True, right_index=True) \n",
    "\n",
    "# Variável target\n",
    "y_train = X_train['isFraud'].copy()\n",
    "\n",
    "# Dataframe de test\n",
    "fix = {o:n for o, n in zip(df_test_id.columns, df_train_id.columns)} # Adequação das colunas do test_id\n",
    "df_test_id.rename(columns=fix, inplace=True)\n",
    "X_test = df_test_transaction.merge(df_test_id, how='left', left_index=True, right_index=True)\n",
    "\n",
    "# Limpeza da memória para melhorar performance\n",
    "del df_train_id, df_train_transaction, df_test_transaction,df_test_id, X_train['isFraud'];  x = gc.collect()\n",
    "\n",
    "# PRINT STATUS\n",
    "print('Train shape',X_train.shape,'test shape',X_test.shape)"
   ]
  },
  {
   "cell_type": "markdown",
   "metadata": {},
   "source": [
    "Temos um total de 434 variáveis, sendo que dessas 31 são strings e as demais numéricas. Sendo que das variáveis numéricas 340 são variáveis criadas pela Vesta, dessa forma o conjunto de dados original tem 95 variáveis. "
   ]
  },
  {
   "cell_type": "code",
   "execution_count": 4,
   "metadata": {},
   "outputs": [
    {
     "name": "stdout",
     "output_type": "stream",
     "text": [
      "Variável Target - Train\n"
     ]
    },
    {
     "data": {
      "text/html": [
       "<div>\n",
       "<style scoped>\n",
       "    .dataframe tbody tr th:only-of-type {\n",
       "        vertical-align: middle;\n",
       "    }\n",
       "\n",
       "    .dataframe tbody tr th {\n",
       "        vertical-align: top;\n",
       "    }\n",
       "\n",
       "    .dataframe thead th {\n",
       "        text-align: right;\n",
       "    }\n",
       "</style>\n",
       "<table border=\"1\" class=\"dataframe\">\n",
       "  <thead>\n",
       "    <tr style=\"text-align: right;\">\n",
       "      <th></th>\n",
       "      <th>Contagem</th>\n",
       "      <th>Porcentagem</th>\n",
       "    </tr>\n",
       "    <tr>\n",
       "      <th>Valor</th>\n",
       "      <th></th>\n",
       "      <th></th>\n",
       "    </tr>\n",
       "  </thead>\n",
       "  <tbody>\n",
       "    <tr>\n",
       "      <th>0</th>\n",
       "      <td>569877</td>\n",
       "      <td>96.5</td>\n",
       "    </tr>\n",
       "    <tr>\n",
       "      <th>1</th>\n",
       "      <td>20663</td>\n",
       "      <td>3.5</td>\n",
       "    </tr>\n",
       "  </tbody>\n",
       "</table>\n",
       "</div>"
      ],
      "text/plain": [
       "       Contagem  Porcentagem\n",
       "Valor                       \n",
       "0        569877         96.5\n",
       "1         20663          3.5"
      ]
     },
     "execution_count": 4,
     "metadata": {},
     "output_type": "execute_result"
    }
   ],
   "source": [
    "print('Variável Target - Train')\n",
    "y_count = pd.DataFrame()\n",
    "y_count['Contagem'] = y_train.value_counts()#.rename({'index':'Value','axis':'Contagem'})\n",
    "y_count['Porcentagem'] = np.round(y_count / y_count.sum(), 4)*100\n",
    "y_count.index.name = 'Valor'\n",
    "y_count"
   ]
  },
  {
   "cell_type": "markdown",
   "metadata": {},
   "source": [
    "Observamos que o conjunto de dados é bem desbalanceado com cerca de 3,5% de fraudes. Isso pode impactar significativamente nosso processo de modelagem e devemos estar atentos ao desbalanceamento na escolha do nosso modelo.\n",
    "\n",
    "O desbalanceamento é muito comum de ocorrer em conjunto de dados que tentam prever anomalias, como por exemplo, classificação de spam."
   ]
  },
  {
   "cell_type": "markdown",
   "metadata": {},
   "source": [
    "## 1.2 Seleção das variáveis\n",
    "\n",
    "Como mencionado temos 340 variáveis numéricas que a Vetra criou nos demais dados de transações. Sendo assim pode ser que algumas dessa variáveis sejam fortemente correlacionadas com as outras e isso pode prejudicar nosso modelo. Assim é pertinente realizar uma análise exploratória para verificar se existe alguma correlação entre as variáveis para selecionar as variáveis com menor número de nan's.\n",
    "\n",
    "Conforme apresentado no [Towards Data Science](https://towardsdatascience.com/learn-how-to-do-feature-selection-the-right-way-61bca8557bef) iremos realizar teste para cada categoria de variáveis para selecionar as que estatiscamente fazem mais sentido para o nosso problema de classificação.\n",
    "\n",
    " <img src=https://miro.medium.com/max/700/1*tzfWABEHK9-4SOaSl1mdRA.png />\n",
    "\n",
    " No nosso projeto temos como variáveis de entrada tanto variáveis categóricas e variáveis numéricas e nossa variável de saída é uma variável categórica. Assim, conforme o diagrama acima para selecionar nossas variáveis mais relevantes vamos utilizar o coeficiente de correlação de Kendall e Anova para selecionar as variáveis que possuem maior correlação."
   ]
  },
  {
   "cell_type": "markdown",
   "metadata": {},
   "source": [
    "## 1.3 Definição de estratégia de análise\n",
    "\n",
    "Optamos por não apresentar gráfico referente as variáveis no processo de EDA, pois isso foi muito bem feito por [Alij's](https://www.kaggle.com/code/alijs1/ieee-transaction-columns-reference/notebook) e não vemos como essa exploração pode ser melhorada. \n",
    "\n",
    "Vamos realizar uma seleção automatizada das variáveis numéricas, para que possamos verificar se as mesmas são relevantes para a análise em especial as varíaveis criadas pela Vesta, pois são muitas. Vamos adotar para isso dois critérios:\n",
    "\n",
    "* Variáveis numéricas:\n",
    "    * Correlação de Kendall entre as variáveis. *(Ver observação abaixo)*\n",
    "    * Teste ANOVA \n",
    "* Variáveis categóricas:\n",
    "    * Mutual information\n",
    "    * Chi-square\n",
    "\n",
    "Observação:\tA correlação de Kendall poderia ser aplicada tanto para as variáveis categoricas e numéricas, mas vamos aplicar apenas para as variáveis numéricas, pois dentro das variáveis numéricas existem dados com características categóricas. Para a selação das variáveis categóricas, vamos utilizar a função [mutual_info_classif](https://scikit-learn.org/stable/modules/generated/sklearn.feature_selection.mutual_info_classif.html) que calcula a informação mutuária entre duas variáveis e a função [Chi-squared](https://scikit-learn.org/stable/modules/generated/sklearn.feature_selection.chi2.html) mede a dependência entre duas variáveis estocásticas."
   ]
  },
  {
   "cell_type": "markdown",
   "metadata": {},
   "source": [
    "### 1.3.2 Normalização dos dados de tempo\n",
    "\n",
    "Conforme exposto acima as Colunas D são \"deltas de tempo\" de algum ponto no passado. Vamos transformar as Colunas D em seu ponto no passado. Isso impedirá que as colunas D aumentem com o tempo. A fórmula é `D15n = Transaction_Day - D15` e `Transaction_Day = TransactionDT/(24*60*60)`. Depois, multiplicamos esse número por menos um."
   ]
  },
  {
   "cell_type": "code",
   "execution_count": 5,
   "metadata": {},
   "outputs": [
    {
     "data": {
      "image/png": "[encoded data removed]",
      "text/plain": [
       "<Figure size 1080x360 with 1 Axes>"
      ]
     },
     "metadata": {
      "needs_background": "light"
     },
     "output_type": "display_data"
    }
   ],
   "source": [
    "# Dados originais\n",
    "plt.figure(figsize=(15,5))\n",
    "plt.scatter(X_train['TransactionDT'],X_train['D15'])\n",
    "plt.title('D15 Original - Treino')\n",
    "plt.xlabel('Tempo')\n",
    "plt.ylabel('D15')\n",
    "plt.show()"
   ]
  },
  {
   "cell_type": "code",
   "execution_count": 6,
   "metadata": {},
   "outputs": [],
   "source": [
    "for i in range(1,16):\n",
    "    if i in [1,2,3,5,9]: continue\n",
    "    X_train['D'+str(i)] =  X_train['D'+str(i)] - X_train.TransactionDT/np.float32(24*60*60)\n",
    "    X_test['D'+str(i)] = X_test['D'+str(i)] - X_test.TransactionDT/np.float32(24*60*60) "
   ]
  },
  {
   "cell_type": "code",
   "execution_count": 7,
   "metadata": {},
   "outputs": [
    {
     "data": {
      "image/png": "[encoded data removed]",
      "text/plain": [
       "<Figure size 1080x360 with 1 Axes>"
      ]
     },
     "metadata": {
      "needs_background": "light"
     },
     "output_type": "display_data"
    }
   ],
   "source": [
    "# PLOT TRANSFORMED D\n",
    "plt.figure(figsize=(15,5))\n",
    "plt.scatter(X_train['TransactionDT'],X_train['D15'])\n",
    "plt.title('D15 Transformada')\n",
    "plt.xlabel('Tempo')\n",
    "plt.ylabel('D15n')\n",
    "plt.show()"
   ]
  },
  {
   "cell_type": "code",
   "execution_count": 8,
   "metadata": {},
   "outputs": [],
   "source": [
    "# Montamos a lista das variáveis categóricas\n",
    "# Conforme identificamos no kaggle nas discussões sobre as variáveis\n",
    "# As variáveis categóricas que já estão no formato inteiro são:\n",
    "# 'addr1', 'addr2', 'id_32' \n",
    "# Obs.:dever ser algum mascaramento para preservar os usuários sendo \n",
    "# esta informação ser possivelmente sensível \n",
    "\n",
    "lista_var_categoricas = ['DeviceType','DeviceInfo','ProductCD','card4','card6','M4',\n",
    "                         'P_emaildomain','R_emaildomain','addr1','addr2','M1','M2','M3',\n",
    "                         'M5','M6','M7','M8','M9','id_12','id_15','id_16','id_23','id_27',\n",
    "                         'id_28','id_29','id_30','id_31','id_32','id_33','id_34','id_35',\n",
    "                         'id_36','id_37','id_38']\n"
   ]
  },
  {
   "cell_type": "code",
   "execution_count": 9,
   "metadata": {},
   "outputs": [
    {
     "name": "stdout",
     "output_type": "stream",
     "text": [
      "CPU times: total: 1min 45s\n",
      "Wall time: 1min 45s\n"
     ]
    }
   ],
   "source": [
    "%%time\n",
    "X_train_clean = pd.DataFrame()\n",
    "X_test_clean = pd.DataFrame()\n",
    "# Redução de uso de memória e processamento do label encode\n",
    "# Preenchendo os valores nulos com -1\n",
    "for i,col in enumerate(X_train.columns):\n",
    "    # FACTORIZE CATEGORICAL VARIABLES\n",
    "    if (np.str(X_train[col].dtype)=='category')|(X_train[col].dtype=='object'): \n",
    "        df_comb = pd.concat([X_train[col],X_test[col]],axis=0)\n",
    "        df_comb,_ = df_comb.factorize(sort=True)\n",
    "        if df_comb.max()>32000: print(col,'needs int32')\n",
    "        X_train_clean[col] = df_comb[:len(X_train)].astype('int16')\n",
    "        X_test_clean[col] = df_comb[len(X_train):].astype('int16')\n",
    "        \n",
    "    # Deslocamento dos dados numéricos para serem positivos\n",
    "    # Preenchendo os valores nulos com -1\n",
    "    # 'TransactionAmt' 'TransactionDT' essas variáveis são positivas \n",
    "    # e não precisam ser tratadas\n",
    "    elif col not in ['TransactionAmt','TransactionDT','addr1','addr2','id_32']: \n",
    "        mn = np.min((X_train[col].min(),X_test[col].min()))\n",
    "        X_train[col] -= np.float32(mn)\n",
    "        X_test[col] -= np.float32(mn)\n",
    "        X_train_clean[col] = X_train[col].fillna(-1)\n",
    "        X_test_clean[col] = X_test[col].fillna(-1)\n",
    "\n",
    "for i in ['TransactionAmt','TransactionDT','addr1','addr2','id_32']:\n",
    "    X_train_clean[i] = X_train[i].fillna(-1)\n",
    "    X_test_clean[i] = X_test[i].fillna(-1)\n",
    "\n",
    "# Limpeza da memória para melhorar performance    \n",
    "del df_comb,X_test; x = gc.collect()"
   ]
  },
  {
   "cell_type": "code",
   "execution_count": 10,
   "metadata": {},
   "outputs": [
    {
     "name": "stdout",
     "output_type": "stream",
     "text": [
      "A proporçção das variáveis numéricas é: 92.17%\n"
     ]
    }
   ],
   "source": [
    "# lista das variáveis numéricas\n",
    "lista_var_num = list((set(X_train.columns) - set(lista_var_categoricas)))\n",
    "# Proporção das variáveis numéricas\n",
    "print(f'A proporçção das variáveis numéricas é: {len(lista_var_num)/len(X_train.columns)*100:.2f}%')"
   ]
  },
  {
   "cell_type": "markdown",
   "metadata": {},
   "source": [
    "## 1.4 Seleção estatística das variáveis numéricas"
   ]
  },
  {
   "cell_type": "code",
   "execution_count": 11,
   "metadata": {},
   "outputs": [
    {
     "name": "stdout",
     "output_type": "stream",
     "text": [
      "CPU times: total: 1h 11min 24s\n",
      "Wall time: 1h 11min 30s\n"
     ]
    }
   ],
   "source": [
    "%%time\n",
    "############################################################################# \n",
    "### Selecionando as variáveis as variáveis numéricas ########################\n",
    "#############################################################################\n",
    "\n",
    "\n",
    "# Correlação entre as colunas das variáveis numéricas\n",
    "# Conforme o artigo do acima vamos usar o método de Kendall para calcular a correlação\n",
    "# pois estamos trabalhando uma saída do tipo categorica.\n",
    "corr_matrix = X_train_clean[lista_var_num].corr(method='kendall')\n",
    "\n",
    "#Obs.: essa célula demora muito tempo (~75 minutos) para ser executada,\n",
    "# usea com sabedoria "
   ]
  },
  {
   "cell_type": "code",
   "execution_count": 32,
   "metadata": {},
   "outputs": [],
   "source": [
    "# Nesse ponto estamos verificar as variáveis que possuem correlação entre si \n",
    "# superior ao trheshold de 0.9. \n",
    "\n",
    "# Correlação maxima que iremos permitir para as variáveis numéricas\n",
    "mask = (corr_matrix.abs()<.9) # Obs.: Usamos o método abs para considerar os valores negativos"
   ]
  },
  {
   "cell_type": "code",
   "execution_count": 24,
   "metadata": {},
   "outputs": [],
   "source": [
    "# Soma dos nan's variáveis numericas (NAN = -1)\n",
    "var_nan =  (X_train_clean[lista_var_num] == -1).sum()"
   ]
  },
  {
   "cell_type": "code",
   "execution_count": 35,
   "metadata": {},
   "outputs": [
    {
     "name": "stdout",
     "output_type": "stream",
     "text": [
      "A lista das variáveis de variáveis numericas selecionadas é: 108\n",
      "A lista das variáveis que apresentam correlação entre si superior ao threshold é: ['V68', 'C10', 'V135', 'V22', 'V21', 'V297', 'V284', 'V3', 'V102', 'V48', 'V54', 'id_22', 'TransactionDT', 'V127', 'V304', 'V56', 'V321', 'V20', 'V41', 'V76', 'V280', 'V34', 'V128', 'V81', 'V17', 'V14', 'V66', 'V77', 'V306', 'V26', 'V31', 'id_11', 'V316', 'V86', 'V16', 'V295', 'V27', 'V64', 'TransactionID_y', 'V84', 'V104', 'C8', 'V88', 'V119', 'V283', 'V60', 'V43', 'V93', 'id_10', 'V50', 'V94', 'V7', 'V311', 'V46', 'id_01', 'V71', 'V29', 'V98', 'V134', 'V92', 'V289', 'V300', 'V130', 'V52', 'V132', 'V131', 'V30', 'V313', 'V9', 'V10', 'D9', 'V72', 'V8', 'V82', 'V38', 'V320', 'V33', 'V95', 'V18', 'V23', 'V42', 'V106', 'V312', 'V28', 'D6', 'V105', 'V315', 'V36', 'C7', 'V44', 'V32', 'V61', 'V51', 'V63', 'D1', 'V37', 'V45', 'V85', 'V294', 'V13', 'V1', 'V59', 'V6', 'V5', 'V15', 'V2', 'V40', 'V80']\n"
     ]
    }
   ],
   "source": [
    "# Monta a lista das variáveis que apresentam um fator de correlação entre si\n",
    "# superior ao theshold estabelecido\n",
    "\n",
    "corr_selection = []\n",
    "# Vamos o triangulo abaixo da diagonal da matriz de correlação\n",
    "for i, col in enumerate(mask.columns):\n",
    "    for j, ind in enumerate(mask.index):\n",
    "        if i < j and mask.iloc[i,j] == False:\n",
    "            list_aux = [x for x in mask[mask[col] == False].index.values]\n",
    "            list_aux.insert(0,col)\n",
    "    # Entre as duas variáveis, a correlação é superior ao threshold\n",
    "    # tomaremos a que tem o menor número de nans\n",
    "    var_aux = var_nan[list_aux].idxmin()\n",
    "    if var_aux not in corr_selection:\n",
    "        corr_selection.append(var_aux)\n",
    "            \n",
    "            \n",
    "# Resultado\n",
    "print(f'A lista das variáveis de variáveis numericas selecionadas é: {len(corr_selection)}')\n",
    "print(f'A lista das variáveis que apresentam correlação entre si superior ao threshold é: {corr_selection}')\n"
   ]
  },
  {
   "cell_type": "markdown",
   "metadata": {},
   "source": [
    "### 1.4.1 Teste ANOVA\n",
    "\n",
    "A aplicação do teste ANOVA é feita para selecionar as variáveis e ela verifica se a relação de cada variável (continua ou não) com a saída é significativa. Para isso ela verifica se a variância dos grupos  é significativa para saber se a variável pode ser considerada no modelo de treino. Para maiores detalhes sobre este teste veja [aqui](https://towardsdatascience.com/anova-for-feature-selection-in-machine-learning-d9305e228476) e [aqui](https://towardsdatascience.com/statistics-in-python-using-anova-for-feature-selection-b4dc876ef4f0)"
   ]
  },
  {
   "cell_type": "code",
   "execution_count": 36,
   "metadata": {},
   "outputs": [
    {
     "name": "stdout",
     "output_type": "stream",
     "text": [
      "A quantidade de variáveis selecionadas pelo ANOVA é: 177\n",
      "['V257', 'V249', 'V22', 'V21', 'V148', 'V3', 'V48', 'V54', 'V34', 'V81', 'V217', 'card3', 'V169', 'V17', 'V219', 'V227', 'V253', 'V242', 'V77', 'V260', 'V251', 'V228', 'V31', 'V86', 'V16', 'V87', 'V244', 'V196', 'V175', 'V64', 'V259', 'V157', 'V192', 'V84', 'V235', 'V114', 'V256', 'V239', 'V171', 'D11', 'V112', 'V283', 'V60', 'V49', 'V43', 'V229', 'V93', 'V149', 'V246', 'D15', 'V191', 'V230', 'V198', 'V53', 'V50', 'V94', 'V241', 'V115', 'V140', 'V255', 'V58', 'D14', 'V7', 'V236', 'V304', 'V110', 'V181', 'V139', 'V302', 'V71', 'V29', 'V116', 'V92', 'V124', 'V247', 'V52', 'V173', 'V185', 'V91', 'V9', 'V10', 'V188', 'D9', 'V72', 'V197', 'V8', 'V38', 'V78', 'V73', 'V18', 'V248', 'V70', 'V262', 'V225', 'V146', 'V42', 'D13', 'V233', 'V125', 'V57', 'V176', 'V237', 'V221', 'D6', 'V172', 'V254', 'V195', 'D12', 'V240', 'V44', 'V32', 'V250', 'V238', 'V51', 'V63', 'V282', 'D1', 'V174', 'V37', 'V186', 'V218', 'V193', 'V158', 'V281', 'V109', 'V45', 'V303', 'V220', 'V85', 'V232', 'V189', 'V199', 'V13', 'D7', 'V252', 'V1', 'V183', 'V59', 'V90', 'V6', 'V223', 'V194', 'V30', 'V5', 'V258', 'V69', 'V15', 'V12', 'V147', 'V2', 'V200', 'V113', 'V40', 'V261', 'D8', 'D10', 'V245', 'V33', 'V184', 'V80', 'V108', 'V123', 'V201', 'V190', 'V79', 'D2', 'V11', 'V170', 'V4', 'V111', 'V75', 'V39', 'V222', 'V243', 'V74', 'V155', 'V156']\n"
     ]
    }
   ],
   "source": [
    "# Teste ANOVA para selecionar as variáveis \n",
    "selector_anova = SelectKBest(f_classif, k='all')\n",
    "selector_anova.fit_transform(X_train_clean[lista_var_num], y_train)\n",
    "anova_feature = selector_anova.get_feature_names_out()\n",
    "anova_support = selector_anova.pvalues_\n",
    "\n",
    "# Vamos selecionar as variáveis com o p-value igual 0\n",
    "anova_selection = []\n",
    "for i,k in enumerate(anova_support):\n",
    "    if k == 0:\n",
    "        anova_selection.append(anova_feature[i])\n",
    "\n",
    "# limpando os dados\n",
    "del selector_anova,anova_feature,anova_support; x = gc.collect()\n",
    "\n",
    "print(f'A quantidade de variáveis selecionadas pelo ANOVA é: {len(anova_selection)}')\n",
    "print(anova_selection)"
   ]
  },
  {
   "cell_type": "code",
   "execution_count": 37,
   "metadata": {},
   "outputs": [
    {
     "name": "stdout",
     "output_type": "stream",
     "text": [
      "A quantidade de variáveis *numéricas* selecionadas é: 54\n",
      "São elas:  ['V38', 'V92', 'V43', 'V18', 'V22', 'V21', 'V15', 'V93', 'V42', 'V3', 'V2', 'V31', 'V86', 'V45', 'V48', 'V54', 'V16', 'V50', 'V52', 'V94', 'V85', 'V40', 'D6', 'V64', 'V34', 'V7', 'V81', 'V84', 'V304', 'V33', 'V17', 'V13', 'V9', 'V10', 'V1', 'V44', 'V32', 'V59', 'D9', 'V72', 'V6', 'V77', 'V80', 'V8', 'V51', 'V71', 'V29', 'V30', 'V63', 'V5', 'V283', 'V60', 'V37', 'D1']\n"
     ]
    }
   ],
   "source": [
    "# Reunindo o conjunto das variáveis selecionadas pelo teste de Chi-squared e \n",
    "# o teste de mutual information\n",
    "conj_final_var_num = list(set(corr_selection).intersection(set(anova_selection)))\n",
    "\n",
    "print(f'A quantidade de variáveis *numéricas* selecionadas é: {len(conj_final_var_num)}')\n",
    "print('São elas: ',conj_final_var_num)"
   ]
  },
  {
   "cell_type": "markdown",
   "metadata": {},
   "source": [
    "## 1.5 Seleção estatística das variáveis categóricas\n",
    "\n",
    "Vamos selecionar as variáveis categoricas através da intersecção do conjunto de váriaveis numéricas que foram selecionadas pelo teste de correlação de Kendall e pelo teste ANOVA.\n",
    "\n",
    "**Observação:** estamos adotando uma postura conservadora em relação a seleção de variáveis para tentar reduzir o número de variáveis. Isso irá nos permitir dispender menos tempo no treinamento, avaliação e otimização do modelo."
   ]
  },
  {
   "cell_type": "code",
   "execution_count": 38,
   "metadata": {},
   "outputs": [
    {
     "name": "stdout",
     "output_type": "stream",
     "text": [
      "A quantidade de variáveis selecionadas pelo Chi-squared é: 10\n",
      "['DeviceInfo', 'ProductCD', 'P_emaildomain', 'R_emaildomain', 'addr1', 'addr2', 'M6', 'M7', 'id_31', 'id_33']\n"
     ]
    }
   ],
   "source": [
    "############################################################################### \n",
    "### Selecionando as variáveis as variáveis categoricas ########################\n",
    "###############################################################################\n",
    "\n",
    "# Teste de Chi-squared para selecionar as variáveis com o melhor score\n",
    "# Para o teste Chi-squared temos que usar dados sem valores negativos,\n",
    "# ou seja, o conjunto de dados sem o preenchimento de valores nulos por -1\n",
    "for col in lista_var_categoricas:\n",
    "    X_train[col],_ = X_train[col].factorize(sort=True,na_sentinel=None)\n",
    "\n",
    "# Teste de Chi-squared para selecionar as variáveis com o melhor score\n",
    "selector_chi2 = SelectKBest(chi2, k='all')\n",
    "selector_chi2.fit_transform(X_train[lista_var_categoricas], y_train)\n",
    "chi_feature = selector_chi2.get_feature_names_out()\n",
    "chi_support = selector_chi2.pvalues_\n",
    "\n",
    "# Vamos selecionar as variáveis com o p-value maior que 0\n",
    "chi_selection = []\n",
    "for i,k in enumerate(chi_support):\n",
    "    if k == 0:\n",
    "        chi_selection.append(chi_feature[i])\n",
    "\n",
    "print(f'A quantidade de variáveis selecionadas pelo Chi-squared é: {len(chi_selection)}')\n",
    "print(chi_selection)"
   ]
  },
  {
   "cell_type": "code",
   "execution_count": 39,
   "metadata": {},
   "outputs": [
    {
     "name": "stdout",
     "output_type": "stream",
     "text": [
      "A quantidade de variáveis selecionadas pelo teste da informação mutual é: 22\n",
      "['id_33', 'id_27', 'id_30', 'id_23', 'id_31', 'id_32', 'id_34', 'ProductCD', 'id_36', 'id_16', 'DeviceType', 'id_29', 'id_28', 'id_38', 'card6', 'id_35', 'id_37', 'id_12', 'id_15', 'addr2', 'R_emaildomain', 'M7']\n"
     ]
    }
   ],
   "source": [
    "selector_mi = SelectKBest(mutual_info_classif, k='all')\n",
    "selector_mi.fit(X_train[lista_var_categoricas], y_train)\n",
    "mi_selection = selector_mi.get_feature_names_out()\n",
    "# Vamos selecionar as 17 variáveis com o melhor score\n",
    "# Esse teste não apresentou um threshold para selecionar as variáveis\n",
    "# Se obtou por escolher 2/3 das variáveis com o melhor score\n",
    "mi_selection = pd.Series(selector_mi.scores_, index=selector_mi.get_feature_names_out()).nlargest(2*(len(lista_var_categoricas)//3)).index.values\n",
    "mi_selection = list(mi_selection)\n",
    "\n",
    "print(f'A quantidade de variáveis selecionadas pelo teste da informação mutual é: {len(mi_selection)}')\n",
    "print(mi_selection)"
   ]
  },
  {
   "cell_type": "markdown",
   "metadata": {},
   "source": [
    "Vamos selecionar as variáveis categoricas através da intersecção do conjunto de váriaveis que foram selecionadas pelo teste Chi-square e pelo teste de Mutual Information.\n",
    "\n",
    "**Observação:** estamos adotando uma postura conservadora em relação a seleção de variáveis para tentar reduzir o número de variáveis. Isso irá nos permitir dispender menos tempo no treinamento, avaliação e otimização do modelo."
   ]
  },
  {
   "cell_type": "code",
   "execution_count": 40,
   "metadata": {},
   "outputs": [
    {
     "name": "stdout",
     "output_type": "stream",
     "text": [
      "A quantidade de variáveis categoricas selecionadas é: 6\n",
      "São elas:  ['R_emaildomain', 'id_33', 'addr2', 'M7', 'id_31', 'ProductCD']\n"
     ]
    }
   ],
   "source": [
    "# Reunindo o conjunto das variáveis selecionadas pelo teste de Chi-squared e \n",
    "# o teste de mutual information\n",
    "conj_final_var_cat = list(set(mi_selection).intersection(set(chi_selection)))\n",
    "\n",
    "print(f'A quantidade de variáveis categoricas selecionadas é: {len(conj_final_var_cat)}')\n",
    "print('São elas: ',conj_final_var_cat)"
   ]
  },
  {
   "cell_type": "code",
   "execution_count": 41,
   "metadata": {},
   "outputs": [
    {
     "name": "stdout",
     "output_type": "stream",
     "text": [
      "Quantidade final de seleção das nossas variáveis: 60\n"
     ]
    }
   ],
   "source": [
    "final_vars_selection = conj_final_var_num + conj_final_var_cat\n",
    "\n",
    "print(f'Quantidade final de seleção das nossas variáveis: {len(final_vars_selection)}')\n"
   ]
  },
  {
   "cell_type": "markdown",
   "metadata": {},
   "source": [
    "## 1.6  Salvando dados para o próximo passo"
   ]
  },
  {
   "cell_type": "code",
   "execution_count": 42,
   "metadata": {},
   "outputs": [],
   "source": [
    "# Criando os dataframes com as variáveis selecionadas\n",
    "X_test_clean = X_test_clean[final_vars_selection]\n",
    "X_train_clean = X_train_clean[final_vars_selection]"
   ]
  },
  {
   "cell_type": "code",
   "execution_count": 43,
   "metadata": {},
   "outputs": [],
   "source": [
    "# Salvando os dataframes com as variáveis selecionadas\n",
    "# para serem utilizadas para a etapa de modelagem de ML\n",
    "with open('./ieee-fraud-detection/X.train', 'wb') as Xtrain:\n",
    "    pickle.dump(X_train_clean, Xtrain, pickle.HIGHEST_PROTOCOL)\n",
    "    \n",
    "with open('./ieee-fraud-detection/X.test', 'wb') as Xtest:\n",
    "    pickle.dump(X_test_clean, Xtest, pickle.HIGHEST_PROTOCOL)\n",
    "\n",
    "with open('./ieee-fraud-detection/Y.train', 'wb') as Ytrain:\n",
    "    pickle.dump(y_train, Ytrain, pickle.HIGHEST_PROTOCOL)\n"
   ]
  },
  {
   "cell_type": "markdown",
   "metadata": {},
   "source": [
    "## 1.7 Conclusões e recomendações - EDA\n",
    "\n",
    "Realizamos nessa etapa a exploração dos dados e a seleção das variáveis. \n",
    "\n",
    "Neste trabalho o foco foi dado no processo de seleção das variáveis.\n",
    "\n",
    "Adotamos um critério de seleção de variáveis para o modelo de classificação bem restritivo para obter apenas a variáveis mais significativas possiveis para o modelo.\n",
    "\n",
    "Há diversos pontos deste trabalho que poderiam ser melhorados de forma a obter as variáveis para melhorar a performance do modelo. Como por exemplo, aplicação do teste de correlação para todo o conjunto de dados, seleção de variáveis utilizando quartis, etc.\n",
    "\n"
   ]
  },
  {
   "cell_type": "markdown",
   "metadata": {},
   "source": []
  }
 ],
 "metadata": {
  "interpreter": {
   "hash": "c94be41889154d41bf43aca8d1a8d1cd64b97c119170e03e2ed46ca87183f0c5"
  },
  "kernelspec": {
   "display_name": "Python 3.8.12 ('base')",
   "language": "python",
   "name": "python3"
  },
  "language_info": {
   "codemirror_mode": {
    "name": "ipython",
    "version": 3
   },
   "file_extension": ".py",
   "mimetype": "text/x-python",
   "name": "python",
   "nbconvert_exporter": "python",
   "pygments_lexer": "ipython3",
   "version": "3.8.12"
  },
  "orig_nbformat": 4
 },
 "nbformat": 4,
 "nbformat_minor": 2
}
